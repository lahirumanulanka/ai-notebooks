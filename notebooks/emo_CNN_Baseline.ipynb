{
  "cells": [
    {
      "cell_type": "markdown",
      "metadata": {
        "id": "view-in-github",
        "colab_type": "text"
      },
      "source": [
        "<a href=\"https://colab.research.google.com/github/lahirumanulanka/ai-notebooks/blob/main/notebooks/emo_CNN_Baseline.ipynb\" target=\"_parent\"><img src=\"https://colab.research.google.com/assets/colab-badge.svg\" alt=\"Open In Colab\"/></a>"
      ]
    },
    {
      "cell_type": "code",
      "source": [
        "!git clone https://github.com/lahirumanulanka/ann-visual-emotion"
      ],
      "metadata": {
        "id": "tDybJWMLOBi9",
        "outputId": "23d8a880-d401-4727-c5fd-953044ab3af1",
        "colab": {
          "base_uri": "https://localhost:8080/"
        }
      },
      "id": "tDybJWMLOBi9",
      "execution_count": 1,
      "outputs": [
        {
          "output_type": "stream",
          "name": "stdout",
          "text": [
            "Cloning into 'ann-visual-emotion'...\n",
            "remote: Enumerating objects: 34989, done.\u001b[K\n",
            "remote: Counting objects: 100% (48/48), done.\u001b[K\n",
            "remote: Compressing objects: 100% (37/37), done.\u001b[K\n",
            "remote: Total 34989 (delta 18), reused 33 (delta 9), pack-reused 34941 (from 2)\u001b[K\n",
            "Receiving objects: 100% (34989/34989), 1.43 GiB | 40.67 MiB/s, done.\n",
            "Resolving deltas: 100% (6802/6802), done.\n",
            "Updating files: 100% (34856/34856), done.\n"
          ]
        }
      ]
    },
    {
      "cell_type": "markdown",
      "id": "17f7f7ab",
      "metadata": {
        "id": "17f7f7ab"
      },
      "source": [
        "## 1) Setup & Imports"
      ]
    },
    {
      "cell_type": "code",
      "execution_count": 2,
      "id": "a7a2beec",
      "metadata": {
        "id": "a7a2beec"
      },
      "outputs": [],
      "source": [
        "import os, math, json, random, time\n",
        "from pathlib import Path\n",
        "\n",
        "import numpy as np\n",
        "import pandas as pd\n",
        "from PIL import Image\n",
        "\n",
        "import torch\n",
        "import torch.nn as nn\n",
        "import torch.nn.functional as F\n",
        "from torch.utils.data import Dataset, DataLoader, WeightedRandomSampler\n",
        "from torchvision import transforms, models\n",
        "\n",
        "from sklearn.metrics import classification_report, confusion_matrix\n",
        "import matplotlib.pyplot as plt"
      ]
    },
    {
      "cell_type": "code",
      "source": [
        "SEED = 42\n",
        "random.seed(SEED); np.random.seed(SEED); torch.manual_seed(SEED)\n",
        "if torch.cuda.is_available():\n",
        "    torch.cuda.manual_seed_all(SEED)\n",
        "\n",
        "device = torch.device('cuda' if torch.cuda.is_available() else 'cpu')\n",
        "print('Device:', device)"
      ],
      "metadata": {
        "id": "ioZLkX_4w5mF",
        "colab": {
          "base_uri": "https://localhost:8080/"
        },
        "outputId": "09ece807-935f-456d-90dd-59e4050f2bd5"
      },
      "id": "ioZLkX_4w5mF",
      "execution_count": 3,
      "outputs": [
        {
          "output_type": "stream",
          "name": "stdout",
          "text": [
            "Device: cuda\n"
          ]
        }
      ]
    },
    {
      "cell_type": "markdown",
      "id": "381e8932",
      "metadata": {
        "id": "381e8932"
      },
      "source": [
        "## 2) Config & Label Map"
      ]
    },
    {
      "cell_type": "code",
      "execution_count": 4,
      "id": "76bea1bc",
      "metadata": {
        "id": "76bea1bc"
      },
      "outputs": [],
      "source": [
        "BASE_DIR = \"/content/ann-visual-emotion/data/processed/EmoSet_splits\"\n",
        "BASE_DATA_URL = \"/content/ann-visual-emotion\"\n",
        "\n",
        "# File paths\n",
        "CSV_TRAIN = f\"{BASE_DIR}/train.csv\"\n",
        "CSV_VAL   = f\"{BASE_DIR}/val.csv\"\n",
        "CSV_TEST  = f\"{BASE_DIR}/test.csv\"\n",
        "\n",
        "# Column names in the CSVs\n",
        "COL_IMAGE = 'image'\n",
        "COL_LABEL = 'label'\n",
        "\n",
        "# Training hyperparameters\n",
        "IMG_SIZE     = 224\n",
        "BATCH_SIZE   = 32\n",
        "EPOCHS       = 20\n",
        "BASE_LR      = 3e-4\n",
        "WEIGHT_DECAY = 1e-4\n",
        "LABEL_SMOOTH = 0.05\n",
        "USE_SAMPLER  = True            # balanced mini-batches\n",
        "MIXUP_ALPHA  = 0.0             # set to 0.2~0.4 to enable MixUp\n",
        "\n",
        "# Checkpoint path\n",
        "CKPT_PATH = 'best_resnet18_balanced.pt'"
      ]
    },
    {
      "cell_type": "markdown",
      "id": "3346744c",
      "metadata": {
        "id": "3346744c"
      },
      "source": [
        "## 3) Load CSVs & Quick EDA"
      ]
    },
    {
      "cell_type": "code",
      "execution_count": 5,
      "id": "91e96d29",
      "metadata": {
        "id": "91e96d29",
        "colab": {
          "base_uri": "https://localhost:8080/"
        },
        "outputId": "a2c6982a-c95c-418d-81f3-2daa2136ea04"
      },
      "outputs": [
        {
          "output_type": "stream",
          "name": "stdout",
          "text": [
            "Train: 13864 Val: 1734 Test: 1734\n",
            "                                          image_path        label\n",
            "0  data/raw/EmoSet/contentment/contentment_09260.jpg  contentment\n",
            "1              data/raw/EmoSet/anger/anger_06224.jpg        anger\n",
            "2  data/raw/EmoSet/contentment/contentment_03550.jpg  contentment\n",
            "3          data/raw/EmoSet/sadness/sadness_08827.jpg      sadness\n",
            "4  data/raw/EmoSet/contentment/contentment_09558.jpg  contentment\n"
          ]
        }
      ],
      "source": [
        "train_df = pd.read_csv(CSV_TRAIN)\n",
        "val_df   = pd.read_csv(CSV_VAL)\n",
        "test_df  = pd.read_csv(CSV_TEST)\n",
        "\n",
        "print(\"Train:\", len(train_df), \"Val:\", len(val_df), \"Test:\", len(test_df))\n",
        "print(train_df.head())"
      ]
    },
    {
      "cell_type": "code",
      "execution_count": 6,
      "id": "da44799f",
      "metadata": {
        "id": "da44799f"
      },
      "outputs": [],
      "source": [
        "\n",
        "def _auto_column(df, candidates):\n",
        "    for c in candidates:\n",
        "        if c in df.columns:\n",
        "            return c\n",
        "    raise KeyError(f\"None of {candidates} found. Columns: {list(df.columns)}\")\n",
        "\n",
        "\n",
        "def load_csvs(csv_train, csv_val, csv_test=None, col_image='image_path', col_label='label'):\n",
        "    tr = pd.read_csv(csv_train)\n",
        "    va = pd.read_csv(csv_val)\n",
        "    te = pd.read_csv(csv_test) if csv_test and os.path.exists(csv_test) else None\n",
        "\n",
        "    if col_image not in tr.columns:\n",
        "        col_image = _auto_column(tr, ['image_path','image','filepath','path','img_path','img'])\n",
        "    if col_label not in tr.columns:\n",
        "        col_label = _auto_column(tr, ['label','emotion','target','y'])\n",
        "\n",
        "    for df in (tr, va) + ((te,) if te is not None else ()):\n",
        "        df[col_image] = df[col_image].astype(str)\n",
        "        df[col_label] = df[col_label].astype(str)\n",
        "\n",
        "    labels = sorted(tr[col_label].unique().tolist())\n",
        "    label_to_idx = {l:i for i,l in enumerate(labels)}\n",
        "    idx_to_label = {i:l for l,i in label_to_idx.items()}\n",
        "\n",
        "    tr['y'] = tr[col_label].map(label_to_idx)\n",
        "    va['y'] = va[col_label].map(label_to_idx)\n",
        "    if te is not None:\n",
        "        before = len(te)\n",
        "        te = te[te[col_label].isin(labels)].copy()\n",
        "        if len(te) < before:\n",
        "            print(f\"[WARN] Dropped {before-len(te)} test rows with unseen labels.\")\n",
        "        te['y'] = te[col_label].map(label_to_idx)\n",
        "\n",
        "    return tr, va, te, label_to_idx, idx_to_label, col_image, col_label\n",
        "\n",
        "\n",
        "def resolve_path(p: str) -> str:\n",
        "    \"\"\"Return an absolute path. If not existing, try join with BASE_DATA_URL.\"\"\"\n",
        "    # Already absolute and exists\n",
        "    if os.path.isabs(p) and os.path.exists(p):\n",
        "        return p\n",
        "    # Try relative to BASE_DATA_URL\n",
        "    cand = os.path.join(BASE_DATA_URL, p.lstrip('/'))\n",
        "    if os.path.exists(cand):\n",
        "        return cand\n",
        "    # As last resort, return original (may be handled by PIL if path becomes valid in Colab mount)\n",
        "    return p\n",
        "\n",
        "\n",
        "class ImageCSVDataset(Dataset):\n",
        "    def __init__(self, df, img_col, y_col='y', transform=None):\n",
        "        self.df = df.reset_index(drop=True)\n",
        "        self.img_col = img_col\n",
        "        self.y_col = y_col\n",
        "        self.tfm = transform\n",
        "\n",
        "    def __len__(self):\n",
        "        return len(self.df)\n",
        "\n",
        "    def __getitem__(self, idx):\n",
        "        row = self.df.iloc[idx]\n",
        "        path = resolve_path(row[self.img_col])\n",
        "        y = int(row[self.y_col])\n",
        "        with Image.open(path) as im:\n",
        "            im = im.convert('RGB')\n",
        "        if self.tfm:\n",
        "            im = self.tfm(im)\n",
        "        return im, y\n",
        "\n",
        "\n",
        "def compute_class_weights(y_int, power=0.5):\n",
        "    counts = np.bincount(y_int)\n",
        "    counts[counts==0] = 1\n",
        "    w = (1.0 / counts) ** power\n",
        "    w = w / w.sum() * len(counts)\n",
        "    return torch.tensor(w, dtype=torch.float32)\n",
        "\n",
        "\n",
        "def make_sampler(y_int):\n",
        "    class_count = np.bincount(y_int)\n",
        "    class_count[class_count==0] = 1\n",
        "    class_weight = 1.0 / class_count\n",
        "    sample_weight = np.array([class_weight[y] for y in y_int])\n",
        "    return WeightedRandomSampler(weights=torch.from_numpy(sample_weight).double(),\n",
        "                                 num_samples=len(sample_weight),\n",
        "                                 replacement=True)\n"
      ]
    },
    {
      "cell_type": "code",
      "source": [
        "# Load CSVs\n",
        "train_df, val_df, test_df, label_to_idx, idx_to_label, COL_IMAGE, COL_LABEL = load_csvs(\n",
        "    CSV_TRAIN, CSV_VAL, CSV_TEST, COL_IMAGE, COL_LABEL\n",
        ")\n",
        "NUM_CLASSES = len(label_to_idx)\n",
        "print('Classes:', label_to_idx)\n",
        "\n",
        "# Transforms (ImageNet mean/std)\n",
        "IMAGENET_MEAN = [0.485, 0.456, 0.406]\n",
        "IMAGENET_STD = [0.229, 0.224, 0.225]\n",
        "\n",
        "train_tfms = transforms.Compose([\n",
        "    transforms.RandomResizedCrop(IMG_SIZE, scale=(0.6, 1.0)),\n",
        "    transforms.RandomHorizontalFlip(),\n",
        "    transforms.ColorJitter(brightness=0.2, contrast=0.2, saturation=0.1, hue=0.05),\n",
        "    transforms.RandomRotation(10),\n",
        "    transforms.ToTensor(),\n",
        "    transforms.Normalize(mean=IMAGENET_MEAN, std=IMAGENET_STD),\n",
        "])\n",
        "val_tfms = transforms.Compose([\n",
        "    transforms.Resize(IMG_SIZE + 32),\n",
        "    transforms.CenterCrop(IMG_SIZE),\n",
        "    transforms.ToTensor(),\n",
        "    transforms.Normalize(mean=IMAGENET_MEAN, std=IMAGENET_STD),\n",
        "])\n",
        "\n",
        "train_ds = ImageCSVDataset(train_df, img_col=COL_IMAGE, transform=train_tfms)\n",
        "val_ds   = ImageCSVDataset(val_df,   img_col=COL_IMAGE, transform=val_tfms)\n",
        "test_ds  = ImageCSVDataset(test_df,  img_col=COL_IMAGE, transform=val_tfms) if test_df is not None else None\n",
        "\n",
        "# Sampler / Loaders\n",
        "sampler = make_sampler(train_df['y'].values) if USE_SAMPLER else None\n",
        "train_loader = DataLoader(train_ds, batch_size=BATCH_SIZE, shuffle=(sampler is None),\n",
        "                          sampler=sampler, num_workers=4, pin_memory=True)\n",
        "val_loader   = DataLoader(val_ds,   batch_size=BATCH_SIZE, shuffle=False,\n",
        "                          num_workers=4, pin_memory=True)\n",
        "test_loader  = DataLoader(test_ds,  batch_size=BATCH_SIZE, shuffle=False,\n",
        "                          num_workers=4, pin_memory=True) if test_ds is not None else None\n",
        "\n",
        "# Class weights (for CE)\n",
        "class_weights = compute_class_weights(train_df['y'].values, power=0.5).to(device)\n",
        "print('Class weights:', class_weights.cpu().numpy().round(3))"
      ],
      "metadata": {
        "id": "q-e8jhnnCadn",
        "colab": {
          "base_uri": "https://localhost:8080/"
        },
        "outputId": "7dbd92ff-178f-458d-840a-6910c368a505"
      },
      "id": "q-e8jhnnCadn",
      "execution_count": 7,
      "outputs": [
        {
          "output_type": "stream",
          "name": "stdout",
          "text": [
            "Classes: {'amusement': 0, 'anger': 1, 'awe': 2, 'contentment': 3, 'disgust': 4, 'excitement': 5, 'fear': 6, 'sadness': 7}\n",
            "Class weights: [0.341 0.563 0.85  0.376 4.109 0.269 0.99  0.503]\n"
          ]
        },
        {
          "output_type": "stream",
          "name": "stderr",
          "text": [
            "/usr/local/lib/python3.12/dist-packages/torch/utils/data/dataloader.py:627: UserWarning: This DataLoader will create 4 worker processes in total. Our suggested max number of worker in current system is 2, which is smaller than what this DataLoader is going to create. Please be aware that excessive worker creation might get DataLoader running slow or even freeze, lower the worker number to avoid potential slowness/freeze if necessary.\n",
            "  warnings.warn(\n"
          ]
        }
      ]
    },
    {
      "cell_type": "code",
      "source": [
        "def build_model(num_classes):\n",
        "    net = models.resnet18(weights=models.ResNet18_Weights.IMAGENET1K_V1)\n",
        "    # freeze all\n",
        "    for p in net.parameters():\n",
        "        p.requires_grad = False\n",
        "    # unfreeze last block\n",
        "    for p in net.layer4.parameters():\n",
        "        p.requires_grad = True\n",
        "    in_features = net.fc.in_features\n",
        "    net.fc = nn.Linear(in_features, num_classes)\n",
        "    return net\n",
        "\n",
        "model = build_model(NUM_CLASSES).to(device)\n",
        "\n",
        "# Optimizer / Scheduler\n",
        "opt = torch.optim.AdamW(filter(lambda p: p.requires_grad, model.parameters()),\n",
        "                        lr=BASE_LR, weight_decay=WEIGHT_DECAY)\n",
        "scheduler = torch.optim.lr_scheduler.CosineAnnealingLR(opt, T_max=10)\n",
        "scaler = torch.cuda.amp.GradScaler(enabled=torch.cuda.is_available())"
      ],
      "metadata": {
        "id": "wvqUQT-6Ce3G",
        "colab": {
          "base_uri": "https://localhost:8080/"
        },
        "outputId": "dab5080e-a6d2-44de-d509-3a696cbec63e"
      },
      "id": "wvqUQT-6Ce3G",
      "execution_count": 9,
      "outputs": [
        {
          "output_type": "stream",
          "name": "stdout",
          "text": [
            "Downloading: \"https://download.pytorch.org/models/resnet18-f37072fd.pth\" to /root/.cache/torch/hub/checkpoints/resnet18-f37072fd.pth\n"
          ]
        },
        {
          "output_type": "stream",
          "name": "stderr",
          "text": [
            "100%|██████████| 44.7M/44.7M [00:00<00:00, 186MB/s]\n",
            "/tmp/ipython-input-2085706871.py:19: FutureWarning: `torch.cuda.amp.GradScaler(args...)` is deprecated. Please use `torch.amp.GradScaler('cuda', args...)` instead.\n",
            "  scaler = torch.cuda.amp.GradScaler(enabled=torch.cuda.is_available())\n"
          ]
        }
      ]
    },
    {
      "cell_type": "code",
      "source": [
        "def mixup(images, labels, alpha=0.2):\n",
        "    if alpha <= 0.0:\n",
        "        return images, labels, labels, 1.0, False\n",
        "    lam = np.random.beta(alpha, alpha)\n",
        "    index = torch.randperm(images.size(0), device=images.device)\n",
        "    mixed_x = lam * images + (1 - lam) * images[index, :]\n",
        "    y_a, y_b = labels, labels[index]\n",
        "    return mixed_x, y_a, y_b, lam, True"
      ],
      "metadata": {
        "id": "PbbtFJAjCgTH"
      },
      "id": "PbbtFJAjCgTH",
      "execution_count": 10,
      "outputs": []
    },
    {
      "cell_type": "code",
      "source": [
        "def epoch_pass(loader, train=True):\n",
        "    if train:\n",
        "        model.train()\n",
        "    else:\n",
        "        model.eval()\n",
        "    all_preds, all_tgts = [], []\n",
        "    total_loss, total_n = 0.0, 0\n",
        "\n",
        "    for ims, ys in loader:\n",
        "        ims, ys = ims.to(device), ys.to(device)\n",
        "        if train:\n",
        "            opt.zero_grad(set_to_none=True)\n",
        "        with torch.cuda.amp.autocast(enabled=torch.cuda.is_available()):\n",
        "            ims2, y_a, y_b, lam, used_mix = mixup(ims, ys, alpha=MIXUP_ALPHA if train else 0.0)\n",
        "            logits = model(ims2)\n",
        "            if used_mix:\n",
        "                loss = lam*F.cross_entropy(logits, y_a, weight=class_weights, label_smoothing=LABEL_SMOOTH) + \\\n",
        "                       (1-lam)*F.cross_entropy(logits, y_b, weight=class_weights, label_smoothing=LABEL_SMOOTH)\n",
        "            else:\n",
        "                loss = F.cross_entropy(logits, ys, weight=class_weights, label_smoothing=LABEL_SMOOTH)\n",
        "        if train:\n",
        "            scaler.scale(loss).backward()\n",
        "            scaler.step(opt)\n",
        "            scaler.update()\n",
        "\n",
        "        total_loss += loss.item() * ims.size(0)\n",
        "        total_n    += ims.size(0)\n",
        "        all_preds.append(logits.detach().cpu())\n",
        "        all_tgts.append(ys.detach().cpu())\n",
        "\n",
        "    if train:\n",
        "        scheduler.step()\n",
        "\n",
        "    y_true = torch.cat(all_tgts).numpy()\n",
        "    y_pred = torch.cat(all_preds).argmax(1).numpy()\n",
        "\n",
        "    # macro-F1 (simple sklearn computation)\n",
        "    from sklearn.metrics import f1_score, accuracy_score\n",
        "    f1 = f1_score(y_true, y_pred, average='macro', zero_division=0)\n",
        "    acc = accuracy_score(y_true, y_pred)\n",
        "    return total_loss/total_n, f1, acc, y_true, y_pred"
      ],
      "metadata": {
        "id": "5P2MJj22ChDd"
      },
      "id": "5P2MJj22ChDd",
      "execution_count": 11,
      "outputs": []
    },
    {
      "cell_type": "code",
      "source": [
        "\n",
        "best_f1 = 0.0\n",
        "history = []\n",
        "\n",
        "for epoch in range(1, EPOCHS+1):\n",
        "    t0 = time.time()\n",
        "    tr_loss, tr_f1, tr_acc, _, _ = epoch_pass(train_loader, train=True)\n",
        "    va_loss, va_f1, va_acc, y_true, y_pred = epoch_pass(val_loader, train=False)\n",
        "    dt = time.time()-t0\n",
        "    print(f\"Epoch {epoch:02d} | train_loss {tr_loss:.4f} F1 {tr_f1:.3f} acc {tr_acc:.3f} || val_loss {va_loss:.4f} F1 {va_f1:.3f} acc {va_acc:.3f}  [{dt:.1f}s]\")\n",
        "    history.append((epoch, tr_loss, tr_f1, tr_acc, va_loss, va_f1, va_acc))\n",
        "\n",
        "    if va_f1 > best_f1:\n",
        "        best_f1 = va_f1\n",
        "        torch.save({'model': model.state_dict(),\n",
        "                    'label_to_idx': label_to_idx,\n",
        "                    'idx_to_label': idx_to_label}, CKPT_PATH)\n",
        "        print('  -> saved best checkpoint')\n",
        "\n",
        "# Optionally unfreeze more and continue training if plateau (run again with different setup)\n"
      ],
      "metadata": {
        "id": "me9KEVipCjZr",
        "colab": {
          "base_uri": "https://localhost:8080/"
        },
        "outputId": "e2c97f4a-b056-4d8d-e814-c3f0c71e3678"
      },
      "id": "me9KEVipCjZr",
      "execution_count": 12,
      "outputs": [
        {
          "output_type": "stream",
          "name": "stderr",
          "text": [
            "/usr/local/lib/python3.12/dist-packages/torch/utils/data/dataloader.py:627: UserWarning: This DataLoader will create 4 worker processes in total. Our suggested max number of worker in current system is 2, which is smaller than what this DataLoader is going to create. Please be aware that excessive worker creation might get DataLoader running slow or even freeze, lower the worker number to avoid potential slowness/freeze if necessary.\n",
            "  warnings.warn(\n",
            "/tmp/ipython-input-493716025.py:13: FutureWarning: `torch.cuda.amp.autocast(args...)` is deprecated. Please use `torch.amp.autocast('cuda', args...)` instead.\n",
            "  with torch.cuda.amp.autocast(enabled=torch.cuda.is_available()):\n",
            "/usr/local/lib/python3.12/dist-packages/torch/utils/data/dataloader.py:627: UserWarning: This DataLoader will create 4 worker processes in total. Our suggested max number of worker in current system is 2, which is smaller than what this DataLoader is going to create. Please be aware that excessive worker creation might get DataLoader running slow or even freeze, lower the worker number to avoid potential slowness/freeze if necessary.\n",
            "  warnings.warn(\n",
            "/tmp/ipython-input-493716025.py:13: FutureWarning: `torch.cuda.amp.autocast(args...)` is deprecated. Please use `torch.amp.autocast('cuda', args...)` instead.\n",
            "  with torch.cuda.amp.autocast(enabled=torch.cuda.is_available()):\n"
          ]
        },
        {
          "output_type": "stream",
          "name": "stdout",
          "text": [
            "Epoch 01 | train_loss 0.7365 F1 0.554 acc 0.578 || val_loss 1.8256 F1 0.369 acc 0.437  [192.1s]\n",
            "  -> saved best checkpoint\n"
          ]
        },
        {
          "output_type": "stream",
          "name": "stderr",
          "text": [
            "/usr/local/lib/python3.12/dist-packages/torch/utils/data/dataloader.py:627: UserWarning: This DataLoader will create 4 worker processes in total. Our suggested max number of worker in current system is 2, which is smaller than what this DataLoader is going to create. Please be aware that excessive worker creation might get DataLoader running slow or even freeze, lower the worker number to avoid potential slowness/freeze if necessary.\n",
            "  warnings.warn(\n",
            "/tmp/ipython-input-493716025.py:13: FutureWarning: `torch.cuda.amp.autocast(args...)` is deprecated. Please use `torch.amp.autocast('cuda', args...)` instead.\n",
            "  with torch.cuda.amp.autocast(enabled=torch.cuda.is_available()):\n",
            "/usr/local/lib/python3.12/dist-packages/torch/utils/data/dataloader.py:627: UserWarning: This DataLoader will create 4 worker processes in total. Our suggested max number of worker in current system is 2, which is smaller than what this DataLoader is going to create. Please be aware that excessive worker creation might get DataLoader running slow or even freeze, lower the worker number to avoid potential slowness/freeze if necessary.\n",
            "  warnings.warn(\n",
            "/tmp/ipython-input-493716025.py:13: FutureWarning: `torch.cuda.amp.autocast(args...)` is deprecated. Please use `torch.amp.autocast('cuda', args...)` instead.\n",
            "  with torch.cuda.amp.autocast(enabled=torch.cuda.is_available()):\n"
          ]
        },
        {
          "output_type": "stream",
          "name": "stdout",
          "text": [
            "Epoch 02 | train_loss 0.5868 F1 0.680 acc 0.695 || val_loss 1.7254 F1 0.408 acc 0.474  [190.1s]\n",
            "  -> saved best checkpoint\n"
          ]
        },
        {
          "output_type": "stream",
          "name": "stderr",
          "text": [
            "/usr/local/lib/python3.12/dist-packages/torch/utils/data/dataloader.py:627: UserWarning: This DataLoader will create 4 worker processes in total. Our suggested max number of worker in current system is 2, which is smaller than what this DataLoader is going to create. Please be aware that excessive worker creation might get DataLoader running slow or even freeze, lower the worker number to avoid potential slowness/freeze if necessary.\n",
            "  warnings.warn(\n",
            "/tmp/ipython-input-493716025.py:13: FutureWarning: `torch.cuda.amp.autocast(args...)` is deprecated. Please use `torch.amp.autocast('cuda', args...)` instead.\n",
            "  with torch.cuda.amp.autocast(enabled=torch.cuda.is_available()):\n",
            "/usr/local/lib/python3.12/dist-packages/torch/utils/data/dataloader.py:627: UserWarning: This DataLoader will create 4 worker processes in total. Our suggested max number of worker in current system is 2, which is smaller than what this DataLoader is going to create. Please be aware that excessive worker creation might get DataLoader running slow or even freeze, lower the worker number to avoid potential slowness/freeze if necessary.\n",
            "  warnings.warn(\n",
            "/tmp/ipython-input-493716025.py:13: FutureWarning: `torch.cuda.amp.autocast(args...)` is deprecated. Please use `torch.amp.autocast('cuda', args...)` instead.\n",
            "  with torch.cuda.amp.autocast(enabled=torch.cuda.is_available()):\n"
          ]
        },
        {
          "output_type": "stream",
          "name": "stdout",
          "text": [
            "Epoch 03 | train_loss 0.5037 F1 0.730 acc 0.744 || val_loss 1.6756 F1 0.433 acc 0.503  [185.9s]\n",
            "  -> saved best checkpoint\n"
          ]
        },
        {
          "output_type": "stream",
          "name": "stderr",
          "text": [
            "/usr/local/lib/python3.12/dist-packages/torch/utils/data/dataloader.py:627: UserWarning: This DataLoader will create 4 worker processes in total. Our suggested max number of worker in current system is 2, which is smaller than what this DataLoader is going to create. Please be aware that excessive worker creation might get DataLoader running slow or even freeze, lower the worker number to avoid potential slowness/freeze if necessary.\n",
            "  warnings.warn(\n",
            "/tmp/ipython-input-493716025.py:13: FutureWarning: `torch.cuda.amp.autocast(args...)` is deprecated. Please use `torch.amp.autocast('cuda', args...)` instead.\n",
            "  with torch.cuda.amp.autocast(enabled=torch.cuda.is_available()):\n",
            "/usr/local/lib/python3.12/dist-packages/torch/utils/data/dataloader.py:627: UserWarning: This DataLoader will create 4 worker processes in total. Our suggested max number of worker in current system is 2, which is smaller than what this DataLoader is going to create. Please be aware that excessive worker creation might get DataLoader running slow or even freeze, lower the worker number to avoid potential slowness/freeze if necessary.\n",
            "  warnings.warn(\n",
            "/tmp/ipython-input-493716025.py:13: FutureWarning: `torch.cuda.amp.autocast(args...)` is deprecated. Please use `torch.amp.autocast('cuda', args...)` instead.\n",
            "  with torch.cuda.amp.autocast(enabled=torch.cuda.is_available()):\n"
          ]
        },
        {
          "output_type": "stream",
          "name": "stdout",
          "text": [
            "Epoch 04 | train_loss 0.4655 F1 0.768 acc 0.780 || val_loss 1.6883 F1 0.431 acc 0.495  [183.5s]\n"
          ]
        },
        {
          "output_type": "stream",
          "name": "stderr",
          "text": [
            "/usr/local/lib/python3.12/dist-packages/torch/utils/data/dataloader.py:627: UserWarning: This DataLoader will create 4 worker processes in total. Our suggested max number of worker in current system is 2, which is smaller than what this DataLoader is going to create. Please be aware that excessive worker creation might get DataLoader running slow or even freeze, lower the worker number to avoid potential slowness/freeze if necessary.\n",
            "  warnings.warn(\n",
            "/tmp/ipython-input-493716025.py:13: FutureWarning: `torch.cuda.amp.autocast(args...)` is deprecated. Please use `torch.amp.autocast('cuda', args...)` instead.\n",
            "  with torch.cuda.amp.autocast(enabled=torch.cuda.is_available()):\n",
            "/usr/local/lib/python3.12/dist-packages/torch/utils/data/dataloader.py:627: UserWarning: This DataLoader will create 4 worker processes in total. Our suggested max number of worker in current system is 2, which is smaller than what this DataLoader is going to create. Please be aware that excessive worker creation might get DataLoader running slow or even freeze, lower the worker number to avoid potential slowness/freeze if necessary.\n",
            "  warnings.warn(\n",
            "/tmp/ipython-input-493716025.py:13: FutureWarning: `torch.cuda.amp.autocast(args...)` is deprecated. Please use `torch.amp.autocast('cuda', args...)` instead.\n",
            "  with torch.cuda.amp.autocast(enabled=torch.cuda.is_available()):\n"
          ]
        },
        {
          "output_type": "stream",
          "name": "stdout",
          "text": [
            "Epoch 05 | train_loss 0.4328 F1 0.804 acc 0.811 || val_loss 1.6769 F1 0.446 acc 0.505  [182.8s]\n",
            "  -> saved best checkpoint\n"
          ]
        },
        {
          "output_type": "stream",
          "name": "stderr",
          "text": [
            "/usr/local/lib/python3.12/dist-packages/torch/utils/data/dataloader.py:627: UserWarning: This DataLoader will create 4 worker processes in total. Our suggested max number of worker in current system is 2, which is smaller than what this DataLoader is going to create. Please be aware that excessive worker creation might get DataLoader running slow or even freeze, lower the worker number to avoid potential slowness/freeze if necessary.\n",
            "  warnings.warn(\n",
            "/tmp/ipython-input-493716025.py:13: FutureWarning: `torch.cuda.amp.autocast(args...)` is deprecated. Please use `torch.amp.autocast('cuda', args...)` instead.\n",
            "  with torch.cuda.amp.autocast(enabled=torch.cuda.is_available()):\n",
            "/usr/local/lib/python3.12/dist-packages/torch/utils/data/dataloader.py:627: UserWarning: This DataLoader will create 4 worker processes in total. Our suggested max number of worker in current system is 2, which is smaller than what this DataLoader is going to create. Please be aware that excessive worker creation might get DataLoader running slow or even freeze, lower the worker number to avoid potential slowness/freeze if necessary.\n",
            "  warnings.warn(\n",
            "/tmp/ipython-input-493716025.py:13: FutureWarning: `torch.cuda.amp.autocast(args...)` is deprecated. Please use `torch.amp.autocast('cuda', args...)` instead.\n",
            "  with torch.cuda.amp.autocast(enabled=torch.cuda.is_available()):\n"
          ]
        },
        {
          "output_type": "stream",
          "name": "stdout",
          "text": [
            "Epoch 06 | train_loss 0.4154 F1 0.828 acc 0.833 || val_loss 1.6262 F1 0.465 acc 0.542  [185.7s]\n",
            "  -> saved best checkpoint\n"
          ]
        },
        {
          "output_type": "stream",
          "name": "stderr",
          "text": [
            "/usr/local/lib/python3.12/dist-packages/torch/utils/data/dataloader.py:627: UserWarning: This DataLoader will create 4 worker processes in total. Our suggested max number of worker in current system is 2, which is smaller than what this DataLoader is going to create. Please be aware that excessive worker creation might get DataLoader running slow or even freeze, lower the worker number to avoid potential slowness/freeze if necessary.\n",
            "  warnings.warn(\n",
            "/tmp/ipython-input-493716025.py:13: FutureWarning: `torch.cuda.amp.autocast(args...)` is deprecated. Please use `torch.amp.autocast('cuda', args...)` instead.\n",
            "  with torch.cuda.amp.autocast(enabled=torch.cuda.is_available()):\n",
            "/usr/local/lib/python3.12/dist-packages/torch/utils/data/dataloader.py:627: UserWarning: This DataLoader will create 4 worker processes in total. Our suggested max number of worker in current system is 2, which is smaller than what this DataLoader is going to create. Please be aware that excessive worker creation might get DataLoader running slow or even freeze, lower the worker number to avoid potential slowness/freeze if necessary.\n",
            "  warnings.warn(\n",
            "/tmp/ipython-input-493716025.py:13: FutureWarning: `torch.cuda.amp.autocast(args...)` is deprecated. Please use `torch.amp.autocast('cuda', args...)` instead.\n",
            "  with torch.cuda.amp.autocast(enabled=torch.cuda.is_available()):\n"
          ]
        },
        {
          "output_type": "stream",
          "name": "stdout",
          "text": [
            "Epoch 07 | train_loss 0.3780 F1 0.852 acc 0.856 || val_loss 1.6323 F1 0.457 acc 0.543  [183.0s]\n"
          ]
        },
        {
          "output_type": "stream",
          "name": "stderr",
          "text": [
            "/usr/local/lib/python3.12/dist-packages/torch/utils/data/dataloader.py:627: UserWarning: This DataLoader will create 4 worker processes in total. Our suggested max number of worker in current system is 2, which is smaller than what this DataLoader is going to create. Please be aware that excessive worker creation might get DataLoader running slow or even freeze, lower the worker number to avoid potential slowness/freeze if necessary.\n",
            "  warnings.warn(\n",
            "/tmp/ipython-input-493716025.py:13: FutureWarning: `torch.cuda.amp.autocast(args...)` is deprecated. Please use `torch.amp.autocast('cuda', args...)` instead.\n",
            "  with torch.cuda.amp.autocast(enabled=torch.cuda.is_available()):\n",
            "/usr/local/lib/python3.12/dist-packages/torch/utils/data/dataloader.py:627: UserWarning: This DataLoader will create 4 worker processes in total. Our suggested max number of worker in current system is 2, which is smaller than what this DataLoader is going to create. Please be aware that excessive worker creation might get DataLoader running slow or even freeze, lower the worker number to avoid potential slowness/freeze if necessary.\n",
            "  warnings.warn(\n",
            "/tmp/ipython-input-493716025.py:13: FutureWarning: `torch.cuda.amp.autocast(args...)` is deprecated. Please use `torch.amp.autocast('cuda', args...)` instead.\n",
            "  with torch.cuda.amp.autocast(enabled=torch.cuda.is_available()):\n"
          ]
        },
        {
          "output_type": "stream",
          "name": "stdout",
          "text": [
            "Epoch 08 | train_loss 0.3602 F1 0.878 acc 0.882 || val_loss 1.5886 F1 0.467 acc 0.548  [178.4s]\n",
            "  -> saved best checkpoint\n"
          ]
        },
        {
          "output_type": "stream",
          "name": "stderr",
          "text": [
            "/usr/local/lib/python3.12/dist-packages/torch/utils/data/dataloader.py:627: UserWarning: This DataLoader will create 4 worker processes in total. Our suggested max number of worker in current system is 2, which is smaller than what this DataLoader is going to create. Please be aware that excessive worker creation might get DataLoader running slow or even freeze, lower the worker number to avoid potential slowness/freeze if necessary.\n",
            "  warnings.warn(\n",
            "/tmp/ipython-input-493716025.py:13: FutureWarning: `torch.cuda.amp.autocast(args...)` is deprecated. Please use `torch.amp.autocast('cuda', args...)` instead.\n",
            "  with torch.cuda.amp.autocast(enabled=torch.cuda.is_available()):\n",
            "/usr/local/lib/python3.12/dist-packages/torch/utils/data/dataloader.py:627: UserWarning: This DataLoader will create 4 worker processes in total. Our suggested max number of worker in current system is 2, which is smaller than what this DataLoader is going to create. Please be aware that excessive worker creation might get DataLoader running slow or even freeze, lower the worker number to avoid potential slowness/freeze if necessary.\n",
            "  warnings.warn(\n",
            "/tmp/ipython-input-493716025.py:13: FutureWarning: `torch.cuda.amp.autocast(args...)` is deprecated. Please use `torch.amp.autocast('cuda', args...)` instead.\n",
            "  with torch.cuda.amp.autocast(enabled=torch.cuda.is_available()):\n"
          ]
        },
        {
          "output_type": "stream",
          "name": "stdout",
          "text": [
            "Epoch 09 | train_loss 0.3541 F1 0.886 acc 0.889 || val_loss 1.6128 F1 0.476 acc 0.555  [183.7s]\n",
            "  -> saved best checkpoint\n"
          ]
        },
        {
          "output_type": "stream",
          "name": "stderr",
          "text": [
            "/usr/local/lib/python3.12/dist-packages/torch/utils/data/dataloader.py:627: UserWarning: This DataLoader will create 4 worker processes in total. Our suggested max number of worker in current system is 2, which is smaller than what this DataLoader is going to create. Please be aware that excessive worker creation might get DataLoader running slow or even freeze, lower the worker number to avoid potential slowness/freeze if necessary.\n",
            "  warnings.warn(\n",
            "/tmp/ipython-input-493716025.py:13: FutureWarning: `torch.cuda.amp.autocast(args...)` is deprecated. Please use `torch.amp.autocast('cuda', args...)` instead.\n",
            "  with torch.cuda.amp.autocast(enabled=torch.cuda.is_available()):\n",
            "/usr/local/lib/python3.12/dist-packages/torch/utils/data/dataloader.py:627: UserWarning: This DataLoader will create 4 worker processes in total. Our suggested max number of worker in current system is 2, which is smaller than what this DataLoader is going to create. Please be aware that excessive worker creation might get DataLoader running slow or even freeze, lower the worker number to avoid potential slowness/freeze if necessary.\n",
            "  warnings.warn(\n",
            "/tmp/ipython-input-493716025.py:13: FutureWarning: `torch.cuda.amp.autocast(args...)` is deprecated. Please use `torch.amp.autocast('cuda', args...)` instead.\n",
            "  with torch.cuda.amp.autocast(enabled=torch.cuda.is_available()):\n"
          ]
        },
        {
          "output_type": "stream",
          "name": "stdout",
          "text": [
            "Epoch 10 | train_loss 0.3519 F1 0.890 acc 0.893 || val_loss 1.5914 F1 0.473 acc 0.554  [180.1s]\n"
          ]
        },
        {
          "output_type": "stream",
          "name": "stderr",
          "text": [
            "/usr/local/lib/python3.12/dist-packages/torch/utils/data/dataloader.py:627: UserWarning: This DataLoader will create 4 worker processes in total. Our suggested max number of worker in current system is 2, which is smaller than what this DataLoader is going to create. Please be aware that excessive worker creation might get DataLoader running slow or even freeze, lower the worker number to avoid potential slowness/freeze if necessary.\n",
            "  warnings.warn(\n",
            "/tmp/ipython-input-493716025.py:13: FutureWarning: `torch.cuda.amp.autocast(args...)` is deprecated. Please use `torch.amp.autocast('cuda', args...)` instead.\n",
            "  with torch.cuda.amp.autocast(enabled=torch.cuda.is_available()):\n",
            "/usr/local/lib/python3.12/dist-packages/torch/utils/data/dataloader.py:627: UserWarning: This DataLoader will create 4 worker processes in total. Our suggested max number of worker in current system is 2, which is smaller than what this DataLoader is going to create. Please be aware that excessive worker creation might get DataLoader running slow or even freeze, lower the worker number to avoid potential slowness/freeze if necessary.\n",
            "  warnings.warn(\n",
            "/tmp/ipython-input-493716025.py:13: FutureWarning: `torch.cuda.amp.autocast(args...)` is deprecated. Please use `torch.amp.autocast('cuda', args...)` instead.\n",
            "  with torch.cuda.amp.autocast(enabled=torch.cuda.is_available()):\n"
          ]
        },
        {
          "output_type": "stream",
          "name": "stdout",
          "text": [
            "Epoch 11 | train_loss 0.3465 F1 0.893 acc 0.897 || val_loss 1.5952 F1 0.490 acc 0.570  [179.6s]\n",
            "  -> saved best checkpoint\n"
          ]
        },
        {
          "output_type": "stream",
          "name": "stderr",
          "text": [
            "/usr/local/lib/python3.12/dist-packages/torch/utils/data/dataloader.py:627: UserWarning: This DataLoader will create 4 worker processes in total. Our suggested max number of worker in current system is 2, which is smaller than what this DataLoader is going to create. Please be aware that excessive worker creation might get DataLoader running slow or even freeze, lower the worker number to avoid potential slowness/freeze if necessary.\n",
            "  warnings.warn(\n",
            "/tmp/ipython-input-493716025.py:13: FutureWarning: `torch.cuda.amp.autocast(args...)` is deprecated. Please use `torch.amp.autocast('cuda', args...)` instead.\n",
            "  with torch.cuda.amp.autocast(enabled=torch.cuda.is_available()):\n",
            "/usr/local/lib/python3.12/dist-packages/torch/utils/data/dataloader.py:627: UserWarning: This DataLoader will create 4 worker processes in total. Our suggested max number of worker in current system is 2, which is smaller than what this DataLoader is going to create. Please be aware that excessive worker creation might get DataLoader running slow or even freeze, lower the worker number to avoid potential slowness/freeze if necessary.\n",
            "  warnings.warn(\n",
            "/tmp/ipython-input-493716025.py:13: FutureWarning: `torch.cuda.amp.autocast(args...)` is deprecated. Please use `torch.amp.autocast('cuda', args...)` instead.\n",
            "  with torch.cuda.amp.autocast(enabled=torch.cuda.is_available()):\n"
          ]
        },
        {
          "output_type": "stream",
          "name": "stdout",
          "text": [
            "Epoch 12 | train_loss 0.3456 F1 0.893 acc 0.895 || val_loss 1.5949 F1 0.491 acc 0.573  [180.4s]\n",
            "  -> saved best checkpoint\n"
          ]
        },
        {
          "output_type": "stream",
          "name": "stderr",
          "text": [
            "/usr/local/lib/python3.12/dist-packages/torch/utils/data/dataloader.py:627: UserWarning: This DataLoader will create 4 worker processes in total. Our suggested max number of worker in current system is 2, which is smaller than what this DataLoader is going to create. Please be aware that excessive worker creation might get DataLoader running slow or even freeze, lower the worker number to avoid potential slowness/freeze if necessary.\n",
            "  warnings.warn(\n",
            "/tmp/ipython-input-493716025.py:13: FutureWarning: `torch.cuda.amp.autocast(args...)` is deprecated. Please use `torch.amp.autocast('cuda', args...)` instead.\n",
            "  with torch.cuda.amp.autocast(enabled=torch.cuda.is_available()):\n",
            "/usr/local/lib/python3.12/dist-packages/torch/utils/data/dataloader.py:627: UserWarning: This DataLoader will create 4 worker processes in total. Our suggested max number of worker in current system is 2, which is smaller than what this DataLoader is going to create. Please be aware that excessive worker creation might get DataLoader running slow or even freeze, lower the worker number to avoid potential slowness/freeze if necessary.\n",
            "  warnings.warn(\n",
            "/tmp/ipython-input-493716025.py:13: FutureWarning: `torch.cuda.amp.autocast(args...)` is deprecated. Please use `torch.amp.autocast('cuda', args...)` instead.\n",
            "  with torch.cuda.amp.autocast(enabled=torch.cuda.is_available()):\n"
          ]
        },
        {
          "output_type": "stream",
          "name": "stdout",
          "text": [
            "Epoch 13 | train_loss 0.3443 F1 0.895 acc 0.899 || val_loss 1.6222 F1 0.498 acc 0.574  [181.5s]\n",
            "  -> saved best checkpoint\n"
          ]
        },
        {
          "output_type": "stream",
          "name": "stderr",
          "text": [
            "/usr/local/lib/python3.12/dist-packages/torch/utils/data/dataloader.py:627: UserWarning: This DataLoader will create 4 worker processes in total. Our suggested max number of worker in current system is 2, which is smaller than what this DataLoader is going to create. Please be aware that excessive worker creation might get DataLoader running slow or even freeze, lower the worker number to avoid potential slowness/freeze if necessary.\n",
            "  warnings.warn(\n",
            "/tmp/ipython-input-493716025.py:13: FutureWarning: `torch.cuda.amp.autocast(args...)` is deprecated. Please use `torch.amp.autocast('cuda', args...)` instead.\n",
            "  with torch.cuda.amp.autocast(enabled=torch.cuda.is_available()):\n",
            "/usr/local/lib/python3.12/dist-packages/torch/utils/data/dataloader.py:627: UserWarning: This DataLoader will create 4 worker processes in total. Our suggested max number of worker in current system is 2, which is smaller than what this DataLoader is going to create. Please be aware that excessive worker creation might get DataLoader running slow or even freeze, lower the worker number to avoid potential slowness/freeze if necessary.\n",
            "  warnings.warn(\n",
            "/tmp/ipython-input-493716025.py:13: FutureWarning: `torch.cuda.amp.autocast(args...)` is deprecated. Please use `torch.amp.autocast('cuda', args...)` instead.\n",
            "  with torch.cuda.amp.autocast(enabled=torch.cuda.is_available()):\n"
          ]
        },
        {
          "output_type": "stream",
          "name": "stdout",
          "text": [
            "Epoch 14 | train_loss 0.3378 F1 0.895 acc 0.899 || val_loss 1.6240 F1 0.479 acc 0.570  [180.2s]\n"
          ]
        },
        {
          "output_type": "stream",
          "name": "stderr",
          "text": [
            "/usr/local/lib/python3.12/dist-packages/torch/utils/data/dataloader.py:627: UserWarning: This DataLoader will create 4 worker processes in total. Our suggested max number of worker in current system is 2, which is smaller than what this DataLoader is going to create. Please be aware that excessive worker creation might get DataLoader running slow or even freeze, lower the worker number to avoid potential slowness/freeze if necessary.\n",
            "  warnings.warn(\n",
            "/tmp/ipython-input-493716025.py:13: FutureWarning: `torch.cuda.amp.autocast(args...)` is deprecated. Please use `torch.amp.autocast('cuda', args...)` instead.\n",
            "  with torch.cuda.amp.autocast(enabled=torch.cuda.is_available()):\n",
            "/usr/local/lib/python3.12/dist-packages/torch/utils/data/dataloader.py:627: UserWarning: This DataLoader will create 4 worker processes in total. Our suggested max number of worker in current system is 2, which is smaller than what this DataLoader is going to create. Please be aware that excessive worker creation might get DataLoader running slow or even freeze, lower the worker number to avoid potential slowness/freeze if necessary.\n",
            "  warnings.warn(\n",
            "/tmp/ipython-input-493716025.py:13: FutureWarning: `torch.cuda.amp.autocast(args...)` is deprecated. Please use `torch.amp.autocast('cuda', args...)` instead.\n",
            "  with torch.cuda.amp.autocast(enabled=torch.cuda.is_available()):\n"
          ]
        },
        {
          "output_type": "stream",
          "name": "stdout",
          "text": [
            "Epoch 15 | train_loss 0.3393 F1 0.896 acc 0.899 || val_loss 1.6485 F1 0.485 acc 0.572  [180.2s]\n"
          ]
        },
        {
          "output_type": "stream",
          "name": "stderr",
          "text": [
            "/usr/local/lib/python3.12/dist-packages/torch/utils/data/dataloader.py:627: UserWarning: This DataLoader will create 4 worker processes in total. Our suggested max number of worker in current system is 2, which is smaller than what this DataLoader is going to create. Please be aware that excessive worker creation might get DataLoader running slow or even freeze, lower the worker number to avoid potential slowness/freeze if necessary.\n",
            "  warnings.warn(\n",
            "/tmp/ipython-input-493716025.py:13: FutureWarning: `torch.cuda.amp.autocast(args...)` is deprecated. Please use `torch.amp.autocast('cuda', args...)` instead.\n",
            "  with torch.cuda.amp.autocast(enabled=torch.cuda.is_available()):\n",
            "/usr/local/lib/python3.12/dist-packages/torch/utils/data/dataloader.py:627: UserWarning: This DataLoader will create 4 worker processes in total. Our suggested max number of worker in current system is 2, which is smaller than what this DataLoader is going to create. Please be aware that excessive worker creation might get DataLoader running slow or even freeze, lower the worker number to avoid potential slowness/freeze if necessary.\n",
            "  warnings.warn(\n",
            "/tmp/ipython-input-493716025.py:13: FutureWarning: `torch.cuda.amp.autocast(args...)` is deprecated. Please use `torch.amp.autocast('cuda', args...)` instead.\n",
            "  with torch.cuda.amp.autocast(enabled=torch.cuda.is_available()):\n"
          ]
        },
        {
          "output_type": "stream",
          "name": "stdout",
          "text": [
            "Epoch 16 | train_loss 0.3471 F1 0.886 acc 0.889 || val_loss 1.6875 F1 0.468 acc 0.539  [181.8s]\n"
          ]
        },
        {
          "output_type": "stream",
          "name": "stderr",
          "text": [
            "/usr/local/lib/python3.12/dist-packages/torch/utils/data/dataloader.py:627: UserWarning: This DataLoader will create 4 worker processes in total. Our suggested max number of worker in current system is 2, which is smaller than what this DataLoader is going to create. Please be aware that excessive worker creation might get DataLoader running slow or even freeze, lower the worker number to avoid potential slowness/freeze if necessary.\n",
            "  warnings.warn(\n",
            "/tmp/ipython-input-493716025.py:13: FutureWarning: `torch.cuda.amp.autocast(args...)` is deprecated. Please use `torch.amp.autocast('cuda', args...)` instead.\n",
            "  with torch.cuda.amp.autocast(enabled=torch.cuda.is_available()):\n",
            "/usr/local/lib/python3.12/dist-packages/torch/utils/data/dataloader.py:627: UserWarning: This DataLoader will create 4 worker processes in total. Our suggested max number of worker in current system is 2, which is smaller than what this DataLoader is going to create. Please be aware that excessive worker creation might get DataLoader running slow or even freeze, lower the worker number to avoid potential slowness/freeze if necessary.\n",
            "  warnings.warn(\n",
            "/tmp/ipython-input-493716025.py:13: FutureWarning: `torch.cuda.amp.autocast(args...)` is deprecated. Please use `torch.amp.autocast('cuda', args...)` instead.\n",
            "  with torch.cuda.amp.autocast(enabled=torch.cuda.is_available()):\n"
          ]
        },
        {
          "output_type": "stream",
          "name": "stdout",
          "text": [
            "Epoch 17 | train_loss 0.3805 F1 0.873 acc 0.876 || val_loss 1.6730 F1 0.484 acc 0.567  [179.2s]\n"
          ]
        },
        {
          "output_type": "stream",
          "name": "stderr",
          "text": [
            "/usr/local/lib/python3.12/dist-packages/torch/utils/data/dataloader.py:627: UserWarning: This DataLoader will create 4 worker processes in total. Our suggested max number of worker in current system is 2, which is smaller than what this DataLoader is going to create. Please be aware that excessive worker creation might get DataLoader running slow or even freeze, lower the worker number to avoid potential slowness/freeze if necessary.\n",
            "  warnings.warn(\n",
            "/tmp/ipython-input-493716025.py:13: FutureWarning: `torch.cuda.amp.autocast(args...)` is deprecated. Please use `torch.amp.autocast('cuda', args...)` instead.\n",
            "  with torch.cuda.amp.autocast(enabled=torch.cuda.is_available()):\n",
            "/usr/local/lib/python3.12/dist-packages/torch/utils/data/dataloader.py:627: UserWarning: This DataLoader will create 4 worker processes in total. Our suggested max number of worker in current system is 2, which is smaller than what this DataLoader is going to create. Please be aware that excessive worker creation might get DataLoader running slow or even freeze, lower the worker number to avoid potential slowness/freeze if necessary.\n",
            "  warnings.warn(\n",
            "/tmp/ipython-input-493716025.py:13: FutureWarning: `torch.cuda.amp.autocast(args...)` is deprecated. Please use `torch.amp.autocast('cuda', args...)` instead.\n",
            "  with torch.cuda.amp.autocast(enabled=torch.cuda.is_available()):\n"
          ]
        },
        {
          "output_type": "stream",
          "name": "stdout",
          "text": [
            "Epoch 18 | train_loss 0.3687 F1 0.871 acc 0.875 || val_loss 1.7542 F1 0.444 acc 0.546  [179.6s]\n"
          ]
        },
        {
          "output_type": "stream",
          "name": "stderr",
          "text": [
            "/usr/local/lib/python3.12/dist-packages/torch/utils/data/dataloader.py:627: UserWarning: This DataLoader will create 4 worker processes in total. Our suggested max number of worker in current system is 2, which is smaller than what this DataLoader is going to create. Please be aware that excessive worker creation might get DataLoader running slow or even freeze, lower the worker number to avoid potential slowness/freeze if necessary.\n",
            "  warnings.warn(\n",
            "/tmp/ipython-input-493716025.py:13: FutureWarning: `torch.cuda.amp.autocast(args...)` is deprecated. Please use `torch.amp.autocast('cuda', args...)` instead.\n",
            "  with torch.cuda.amp.autocast(enabled=torch.cuda.is_available()):\n",
            "/usr/local/lib/python3.12/dist-packages/torch/utils/data/dataloader.py:627: UserWarning: This DataLoader will create 4 worker processes in total. Our suggested max number of worker in current system is 2, which is smaller than what this DataLoader is going to create. Please be aware that excessive worker creation might get DataLoader running slow or even freeze, lower the worker number to avoid potential slowness/freeze if necessary.\n",
            "  warnings.warn(\n",
            "/tmp/ipython-input-493716025.py:13: FutureWarning: `torch.cuda.amp.autocast(args...)` is deprecated. Please use `torch.amp.autocast('cuda', args...)` instead.\n",
            "  with torch.cuda.amp.autocast(enabled=torch.cuda.is_available()):\n"
          ]
        },
        {
          "output_type": "stream",
          "name": "stdout",
          "text": [
            "Epoch 19 | train_loss 0.3729 F1 0.873 acc 0.875 || val_loss 1.7004 F1 0.447 acc 0.533  [179.8s]\n"
          ]
        },
        {
          "output_type": "stream",
          "name": "stderr",
          "text": [
            "/usr/local/lib/python3.12/dist-packages/torch/utils/data/dataloader.py:627: UserWarning: This DataLoader will create 4 worker processes in total. Our suggested max number of worker in current system is 2, which is smaller than what this DataLoader is going to create. Please be aware that excessive worker creation might get DataLoader running slow or even freeze, lower the worker number to avoid potential slowness/freeze if necessary.\n",
            "  warnings.warn(\n",
            "/tmp/ipython-input-493716025.py:13: FutureWarning: `torch.cuda.amp.autocast(args...)` is deprecated. Please use `torch.amp.autocast('cuda', args...)` instead.\n",
            "  with torch.cuda.amp.autocast(enabled=torch.cuda.is_available()):\n",
            "/usr/local/lib/python3.12/dist-packages/torch/utils/data/dataloader.py:627: UserWarning: This DataLoader will create 4 worker processes in total. Our suggested max number of worker in current system is 2, which is smaller than what this DataLoader is going to create. Please be aware that excessive worker creation might get DataLoader running slow or even freeze, lower the worker number to avoid potential slowness/freeze if necessary.\n",
            "  warnings.warn(\n",
            "/tmp/ipython-input-493716025.py:13: FutureWarning: `torch.cuda.amp.autocast(args...)` is deprecated. Please use `torch.amp.autocast('cuda', args...)` instead.\n",
            "  with torch.cuda.amp.autocast(enabled=torch.cuda.is_available()):\n"
          ]
        },
        {
          "output_type": "stream",
          "name": "stdout",
          "text": [
            "Epoch 20 | train_loss 0.3696 F1 0.872 acc 0.875 || val_loss 1.8438 F1 0.442 acc 0.505  [180.8s]\n"
          ]
        }
      ]
    },
    {
      "cell_type": "code",
      "source": [],
      "metadata": {
        "id": "OaeR0kSUtw59"
      },
      "id": "OaeR0kSUtw59",
      "execution_count": null,
      "outputs": []
    },
    {
      "cell_type": "code",
      "source": [
        "print('\\nValidation classification report:')\n",
        "target_names = [idx_to_label[i] for i in range(NUM_CLASSES)]\n",
        "print(classification_report(y_true, y_pred, target_names=target_names, digits=3, zero_division=0))\n",
        "\n",
        "cm = confusion_matrix(y_true, y_pred, labels=list(range(NUM_CLASSES)))\n",
        "fig, ax = plt.subplots(figsize=(8,6))\n",
        "im = ax.imshow(cm, interpolation='nearest')\n",
        "ax.figure.colorbar(im, ax=ax)\n",
        "ax.set(xticks=np.arange(NUM_CLASSES), yticks=np.arange(NUM_CLASSES),\n",
        "       xticklabels=target_names, yticklabels=target_names,\n",
        "       ylabel='True', xlabel='Predicted', title='Confusion Matrix (val)')\n",
        "plt.setp(ax.get_xticklabels(), rotation=45, ha=\"right\", rotation_mode=\"anchor\")\n",
        "for i in range(NUM_CLASSES):\n",
        "    for j in range(NUM_CLASSES):\n",
        "        ax.text(j, i, cm[i, j], ha=\"center\", va=\"center\")\n",
        "plt.tight_layout()\n",
        "plt.show()"
      ],
      "metadata": {
        "colab": {
          "base_uri": "https://localhost:8080/",
          "height": 902
        },
        "id": "iDulGqbuecjW",
        "outputId": "092289a1-4ac2-4696-ffe0-cd0645d896ec"
      },
      "id": "iDulGqbuecjW",
      "execution_count": 15,
      "outputs": [
        {
          "output_type": "stream",
          "name": "stdout",
          "text": [
            "\n",
            "Validation classification report:\n",
            "              precision    recall  f1-score   support\n",
            "\n",
            "   amusement      0.421     0.512     0.462       381\n",
            "       anger      0.596     0.664     0.628       140\n",
            "         awe      0.392     0.500     0.440        62\n",
            " contentment      0.509     0.452     0.479       314\n",
            "     disgust      0.000     0.000     0.000         3\n",
            "  excitement      0.778     0.399     0.527       614\n",
            "        fear      0.468     0.489     0.478        45\n",
            "     sadness      0.379     0.846     0.523       175\n",
            "\n",
            "    accuracy                          0.505      1734\n",
            "   macro avg      0.443     0.483     0.442      1734\n",
            "weighted avg      0.573     0.505     0.507      1734\n",
            "\n"
          ]
        },
        {
          "output_type": "display_data",
          "data": {
            "text/plain": [
              "<Figure size 800x600 with 2 Axes>"
            ],
            "image/png": "[encoded data removed]"
          },
          "metadata": {}
        }
      ]
    },
    {
      "cell_type": "code",
      "source": [
        "\n",
        "if test_loader is not None:\n",
        "    print('\\nEvaluating on TEST set...')\n",
        "    _, _, _, y_true_t, y_pred_t = epoch_pass(test_loader, train=False)\n",
        "    print('Test classification report:')\n",
        "    print(classification_report(y_true_t, y_pred_t, target_names=target_names, digits=3, zero_division=0))\n"
      ],
      "metadata": {
        "id": "gnIsUUL4t_MR",
        "outputId": "156182c1-b8fd-4af9-da51-c54d8b51c3b6",
        "colab": {
          "base_uri": "https://localhost:8080/"
        }
      },
      "id": "gnIsUUL4t_MR",
      "execution_count": 16,
      "outputs": [
        {
          "output_type": "stream",
          "name": "stdout",
          "text": [
            "\n",
            "Evaluating on TEST set...\n"
          ]
        },
        {
          "output_type": "stream",
          "name": "stderr",
          "text": [
            "/usr/local/lib/python3.12/dist-packages/torch/utils/data/dataloader.py:627: UserWarning: This DataLoader will create 4 worker processes in total. Our suggested max number of worker in current system is 2, which is smaller than what this DataLoader is going to create. Please be aware that excessive worker creation might get DataLoader running slow or even freeze, lower the worker number to avoid potential slowness/freeze if necessary.\n",
            "  warnings.warn(\n",
            "/tmp/ipython-input-493716025.py:13: FutureWarning: `torch.cuda.amp.autocast(args...)` is deprecated. Please use `torch.amp.autocast('cuda', args...)` instead.\n",
            "  with torch.cuda.amp.autocast(enabled=torch.cuda.is_available()):\n"
          ]
        },
        {
          "output_type": "stream",
          "name": "stdout",
          "text": [
            "Test classification report:\n",
            "              precision    recall  f1-score   support\n",
            "\n",
            "   amusement      0.413     0.528     0.463       381\n",
            "       anger      0.515     0.493     0.504       140\n",
            "         awe      0.452     0.459     0.455        61\n",
            " contentment      0.468     0.449     0.459       314\n",
            "     disgust      0.000     0.000     0.000         3\n",
            "  excitement      0.798     0.393     0.526       614\n",
            "        fear      0.333     0.444     0.381        45\n",
            "     sadness      0.387     0.847     0.531       176\n",
            "\n",
            "    accuracy                          0.490      1734\n",
            "   macro avg      0.421     0.452     0.415      1734\n",
            "weighted avg      0.563     0.490     0.492      1734\n",
            "\n"
          ]
        }
      ]
    },
    {
      "cell_type": "code",
      "source": [],
      "metadata": {
        "id": "nb0oXYyeuMEs"
      },
      "id": "nb0oXYyeuMEs",
      "execution_count": null,
      "outputs": []
    }
  ],
  "metadata": {
    "kernelspec": {
      "display_name": "Python 3",
      "name": "python3"
    },
    "language_info": {
      "codemirror_mode": {
        "name": "ipython",
        "version": 3
      },
      "file_extension": ".py",
      "mimetype": "text/x-python",
      "name": "python",
      "nbconvert_exporter": "python",
      "pygments_lexer": "ipython3",
      "version": "3.13.7"
    },
    "colab": {
      "provenance": [],
      "gpuType": "T4",
      "include_colab_link": true
    },
    "accelerator": "GPU"
  },
  "nbformat": 4,
  "nbformat_minor": 5
}