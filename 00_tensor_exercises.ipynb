{
  "cells": [
    {
      "cell_type": "markdown",
      "metadata": {
        "id": "view-in-github",
        "colab_type": "text"
      },
      "source": [
        "<a href=\"https://colab.research.google.com/github/lahirumanulanka/ai-notebooks/blob/main/00_tensor_exercises.ipynb\" target=\"_parent\"><img src=\"https://colab.research.google.com/assets/colab-badge.svg\" alt=\"Open In Colab\"/></a>"
      ]
    },
    {
      "cell_type": "markdown",
      "metadata": {
        "id": "y0EN84hQ__Sx"
      },
      "source": [
        "# Tensor Exercises"
      ]
    },
    {
      "cell_type": "markdown",
      "metadata": {
        "id": "JnfYZSg___Sx"
      },
      "source": [
        "# 1. Tensor Creation"
      ]
    },
    {
      "cell_type": "code",
      "execution_count": 1,
      "metadata": {
        "colab": {
          "base_uri": "https://localhost:8080/"
        },
        "id": "-nnaJvPu__Sy",
        "outputId": "4a61e5e3-7b09-4d07-a6b0-8c1a607e5c3b"
      },
      "outputs": [
        {
          "output_type": "stream",
          "name": "stdout",
          "text": [
            "Random Tensor:\n",
            " [[6 0 9]\n",
            " [2 1 6]\n",
            " [3 5 7]\n",
            " [1 7 9]\n",
            " [2 4 8]]\n"
          ]
        }
      ],
      "source": [
        "# Create a tensor of shape (5, 3) filled with random values.\n",
        "import tensorflow as tf\n",
        "import numpy as np\n",
        "random_tensor = tf.random.uniform((5, 3), minval=0, maxval=10, dtype=tf.int32)\n",
        "print(\"Random Tensor:\\n\", random_tensor.numpy())"
      ]
    },
    {
      "cell_type": "code",
      "execution_count": 2,
      "metadata": {
        "colab": {
          "base_uri": "https://localhost:8080/"
        },
        "id": "WqKBn0Vu__Sy",
        "outputId": "27e4556c-1922-4b01-9ff5-57984536fd90"
      },
      "outputs": [
        {
          "output_type": "stream",
          "name": "stdout",
          "text": [
            "Ones Tensor:\n",
            " [[1. 1. 1. 1.]\n",
            " [1. 1. 1. 1.]]\n"
          ]
        }
      ],
      "source": [
        "# Create a tensor of shape (2, 4) filled with ones.\n",
        "ones_tensor = tf.ones((2, 4), dtype=tf.float32)\n",
        "print(\"Ones Tensor:\\n\", ones_tensor.numpy())"
      ]
    },
    {
      "cell_type": "code",
      "execution_count": 3,
      "metadata": {
        "colab": {
          "base_uri": "https://localhost:8080/"
        },
        "id": "uCzcUqRv__Sy",
        "outputId": "00c0ac02-f9d1-4f26-96dd-0ad80681d930"
      },
      "outputs": [
        {
          "output_type": "stream",
          "name": "stdout",
          "text": [
            "List Tensor:\n",
            " [ 5 10 15 20]\n"
          ]
        }
      ],
      "source": [
        "# Create a tensor from a list [5, 10, 15, 20].\n",
        "list_tensor = tf.constant([5, 10, 15, 20], dtype=tf.int32)\n",
        "print(\"List Tensor:\\n\", list_tensor.numpy())"
      ]
    },
    {
      "cell_type": "code",
      "execution_count": 4,
      "metadata": {
        "colab": {
          "base_uri": "https://localhost:8080/"
        },
        "id": "EgSgUJWH__Sy",
        "outputId": "9fcd6f41-6da4-4528-db87-31550965b87a"
      },
      "outputs": [
        {
          "output_type": "stream",
          "name": "stdout",
          "text": [
            "Image Tensor Shape: (6, 8, 3)\n"
          ]
        }
      ],
      "source": [
        "# Create a tensor to represent an image that has width of 8, height of 6, and 3 channels.\n",
        "image_tensor = tf.random.uniform((6, 8, 3), minval=0, maxval=255, dtype=tf.int32)\n",
        "print(\"Image Tensor Shape:\", image_tensor.shape)"
      ]
    },
    {
      "cell_type": "markdown",
      "metadata": {
        "id": "74eV_6CZ__Sy"
      },
      "source": [
        "# 2. Tensor Indexing and Slicing"
      ]
    },
    {
      "cell_type": "code",
      "execution_count": 5,
      "metadata": {
        "colab": {
          "base_uri": "https://localhost:8080/"
        },
        "id": "_-T8--iK__Sy",
        "outputId": "7be25f55-1a0b-4f61-8760-03c37de80f8a"
      },
      "outputs": [
        {
          "output_type": "stream",
          "name": "stdout",
          "text": [
            "Tensor with values from 10 to 22:\n",
            " [[10 11 12 13]\n",
            " [14 15 16 17]\n",
            " [18 19 20 21]]\n"
          ]
        }
      ],
      "source": [
        "# Create a tensor tensor of shape (3, 4) with values ranging from 10 to 22.\n",
        "tensor_10_to_22 = tf.range(10, 22, dtype=tf.int32)\n",
        "tensor_10_to_22 = tf.reshape(tensor_10_to_22, (3, 4))\n",
        "print(\"Tensor with values from 10 to 22:\\n\", tensor_10_to_22.numpy())"
      ]
    },
    {
      "cell_type": "code",
      "execution_count": 6,
      "metadata": {
        "colab": {
          "base_uri": "https://localhost:8080/"
        },
        "id": "k7uuMguf__Sy",
        "outputId": "87582b16-b87c-406c-cc1d-0082b03f1e4d"
      },
      "outputs": [
        {
          "output_type": "stream",
          "name": "stdout",
          "text": [
            "Element at (1, 2): 16\n"
          ]
        }
      ],
      "source": [
        "# Access the element at the second row, third column.\n",
        "element = tensor_10_to_22[1, 2]\n",
        "print(\"Element at (1, 2):\", element.numpy())"
      ]
    },
    {
      "cell_type": "code",
      "execution_count": 7,
      "metadata": {
        "colab": {
          "base_uri": "https://localhost:8080/"
        },
        "id": "9heJvDq___Sy",
        "outputId": "b3a5c15d-2ddd-45dc-b42a-4f3e74eb0ca7"
      },
      "outputs": [
        {
          "output_type": "stream",
          "name": "stdout",
          "text": [
            "Second Row:\n",
            " [14 15 16 17]\n"
          ]
        }
      ],
      "source": [
        "# Print the second row.\n",
        "second_row = tensor_10_to_22[1, :]\n",
        "print(\"Second Row:\\n\", second_row.numpy())"
      ]
    },
    {
      "cell_type": "code",
      "execution_count": 8,
      "metadata": {
        "colab": {
          "base_uri": "https://localhost:8080/"
        },
        "id": "9wg7ZOQB__Sy",
        "outputId": "11b0a979-5c79-4a97-baa3-9001499335f4"
      },
      "outputs": [
        {
          "output_type": "stream",
          "name": "stdout",
          "text": [
            "First Two Columns:\n",
            " [[10 11]\n",
            " [14 15]\n",
            " [18 19]]\n"
          ]
        }
      ],
      "source": [
        "# Print the first two columns.\n",
        "first_two_columns = tensor_10_to_22[:, :2]\n",
        "print(\"First Two Columns:\\n\", first_two_columns.numpy())"
      ]
    },
    {
      "cell_type": "markdown",
      "metadata": {
        "id": "jkTqpSe8__Sy"
      },
      "source": [
        "# 3. Tensor Arithmetic Operations"
      ]
    },
    {
      "cell_type": "code",
      "execution_count": 9,
      "metadata": {
        "colab": {
          "base_uri": "https://localhost:8080/"
        },
        "id": "F_w-L6Jh__Sy",
        "outputId": "82709cb0-9829-4a8f-90e4-e5fdeb66ef86"
      },
      "outputs": [
        {
          "output_type": "stream",
          "name": "stdout",
          "text": [
            "Tensor A:\n",
            " [[8 5 3]\n",
            " [1 4 7]\n",
            " [1 6 4]]\n",
            "Tensor B:\n",
            " [[3 8 2]\n",
            " [0 4 3]\n",
            " [9 6 6]]\n"
          ]
        }
      ],
      "source": [
        "# Create two tensors tensor_a and tensor_b of shape (3, 3) with random values.\n",
        "tensor_a = tf.random.uniform((3, 3), minval=0, maxval=10, dtype=tf.int32)\n",
        "tensor_b = tf.random.uniform((3, 3), minval=0, maxval=10, dtype=tf.int32)\n",
        "print(\"Tensor A:\\n\", tensor_a.numpy())\n",
        "print(\"Tensor B:\\n\", tensor_b.numpy())"
      ]
    },
    {
      "cell_type": "code",
      "execution_count": 10,
      "metadata": {
        "colab": {
          "base_uri": "https://localhost:8080/"
        },
        "id": "dc2coBr___Sz",
        "outputId": "c2978467-8a56-425f-97f4-cab11a01d6a4"
      },
      "outputs": [
        {
          "output_type": "stream",
          "name": "stdout",
          "text": [
            "Element-wise Sum:\n",
            " [[11 13  5]\n",
            " [ 1  8 10]\n",
            " [10 12 10]]\n"
          ]
        }
      ],
      "source": [
        "# Perform element-wise addition.\n",
        "tensor_sum = tf.add(tensor_a, tensor_b)\n",
        "print(\"Element-wise Sum:\\n\", tensor_sum.numpy())"
      ]
    },
    {
      "cell_type": "code",
      "execution_count": 11,
      "metadata": {
        "colab": {
          "base_uri": "https://localhost:8080/"
        },
        "id": "MNNXFVBB__Sz",
        "outputId": "0070bb0f-d78d-48e8-c327-3c3bb4cd469d"
      },
      "outputs": [
        {
          "output_type": "stream",
          "name": "stdout",
          "text": [
            "Element-wise Product:\n",
            " [[24 40  6]\n",
            " [ 0 16 21]\n",
            " [ 9 36 24]]\n"
          ]
        }
      ],
      "source": [
        "# Perform element-wise multiplication.\n",
        "tensor_product = tf.multiply(tensor_a, tensor_b)\n",
        "print(\"Element-wise Product:\\n\", tensor_product.numpy())"
      ]
    },
    {
      "cell_type": "code",
      "execution_count": 12,
      "metadata": {
        "colab": {
          "base_uri": "https://localhost:8080/"
        },
        "id": "z9toKbe2__Sz",
        "outputId": "23cf9a63-5995-4496-8882-13cafa733bf4"
      },
      "outputs": [
        {
          "output_type": "stream",
          "name": "stdout",
          "text": [
            "Element-wise Difference:\n",
            " [[ 5 -3  1]\n",
            " [ 1  0  4]\n",
            " [-8  0 -2]]\n"
          ]
        }
      ],
      "source": [
        "# Subtract tensor_b from tensor_a.\n",
        "tensor_difference = tf.subtract(tensor_a, tensor_b)\n",
        "print(\"Element-wise Difference:\\n\", tensor_difference.numpy())"
      ]
    },
    {
      "cell_type": "markdown",
      "metadata": {
        "id": "9mmXhwcR__Sz"
      },
      "source": [
        "# 4. Tensor Aggregation Operations"
      ]
    },
    {
      "cell_type": "code",
      "execution_count": 13,
      "metadata": {
        "colab": {
          "base_uri": "https://localhost:8080/"
        },
        "id": "3Y_f7adc__Sz",
        "outputId": "6352534d-4aef-41c5-fbbd-e933699c1ac4"
      },
      "outputs": [
        {
          "output_type": "stream",
          "name": "stdout",
          "text": [
            "Tensor with values from 1 to 9:\n",
            " [[1 2 3]\n",
            " [4 5 6]\n",
            " [7 8 9]]\n"
          ]
        }
      ],
      "source": [
        "# Create a tensor tensor of shape (3, 3) with values ranging from 1 to 9.\n",
        "tensor_1_to_9 = tf.range(1, 10, dtype=tf.int32)\n",
        "tensor_1_to_9 = tf.reshape(tensor_1_to_9, (3, 3))\n",
        "print(\"Tensor with values from 1 to 9:\\n\", tensor_1_to_9.numpy())"
      ]
    },
    {
      "cell_type": "code",
      "execution_count": 14,
      "metadata": {
        "colab": {
          "base_uri": "https://localhost:8080/"
        },
        "id": "PtAKpbBu__Sz",
        "outputId": "e7c9593e-f72e-480a-8a9f-9db18bff8115"
      },
      "outputs": [
        {
          "output_type": "stream",
          "name": "stdout",
          "text": [
            "Sum of all elements: 45\n"
          ]
        }
      ],
      "source": [
        "# Compute the sum of all elements.\n",
        "tensor_sum_all = tf.reduce_sum(tensor_1_to_9)\n",
        "print(\"Sum of all elements:\", tensor_sum_all.numpy())"
      ]
    },
    {
      "cell_type": "code",
      "execution_count": 15,
      "metadata": {
        "colab": {
          "base_uri": "https://localhost:8080/"
        },
        "id": "SMjdO_5H__Sz",
        "outputId": "e576a0ef-6096-4be6-d586-e52c2f3421f1"
      },
      "outputs": [
        {
          "output_type": "stream",
          "name": "stdout",
          "text": [
            "Mean of all elements: 5\n"
          ]
        }
      ],
      "source": [
        "# Compute the mean of all elements.\n",
        "tensor_mean_all = tf.reduce_mean(tensor_1_to_9)\n",
        "print(\"Mean of all elements:\", tensor_mean_all.numpy())"
      ]
    },
    {
      "cell_type": "code",
      "execution_count": 16,
      "metadata": {
        "colab": {
          "base_uri": "https://localhost:8080/"
        },
        "id": "rsV8QKZz__Sz",
        "outputId": "367902d1-72ec-434d-eabf-24ab72aac60b"
      },
      "outputs": [
        {
          "output_type": "stream",
          "name": "stdout",
          "text": [
            "Maximum value: 9\n",
            "Minimum value: 1\n"
          ]
        }
      ],
      "source": [
        "# Find the maximum and minimum values.\n",
        "tensor_max = tf.reduce_max(tensor_1_to_9)\n",
        "tensor_min = tf.reduce_min(tensor_1_to_9)\n",
        "print(\"Maximum value:\", tensor_max.numpy())\n",
        "print(\"Minimum value:\", tensor_min.numpy())"
      ]
    },
    {
      "cell_type": "code",
      "execution_count": 17,
      "metadata": {
        "colab": {
          "base_uri": "https://localhost:8080/"
        },
        "id": "OSD6sv9q__Sz",
        "outputId": "c1c95ee2-57e8-4e34-bfa5-e465f38cd303"
      },
      "outputs": [
        {
          "output_type": "stream",
          "name": "stdout",
          "text": [
            "Sum along rows:\n",
            " [ 6 15 24]\n"
          ]
        }
      ],
      "source": [
        "# Compute the sum along the rows.\n",
        "tensor_sum_rows = tf.reduce_sum(tensor_1_to_9, axis=1)\n",
        "print(\"Sum along rows:\\n\", tensor_sum_rows.numpy())"
      ]
    },
    {
      "cell_type": "code",
      "execution_count": 18,
      "metadata": {
        "colab": {
          "base_uri": "https://localhost:8080/"
        },
        "id": "m9jYaWfH__Sz",
        "outputId": "73d9cb5c-4a04-4794-e0fc-703f3e914699"
      },
      "outputs": [
        {
          "output_type": "stream",
          "name": "stdout",
          "text": [
            "Mean along columns:\n",
            " [4 5 6]\n"
          ]
        }
      ],
      "source": [
        "# Compute the mean along the columns.\n",
        "tensor_mean_columns = tf.reduce_mean(tensor_1_to_9, axis=0)\n",
        "print(\"Mean along columns:\\n\", tensor_mean_columns.numpy())"
      ]
    },
    {
      "cell_type": "markdown",
      "metadata": {
        "id": "9RHXk7Ud__Sz"
      },
      "source": [
        "# 5. Tensor Reshaping Operations"
      ]
    },
    {
      "cell_type": "code",
      "execution_count": 19,
      "metadata": {
        "colab": {
          "base_uri": "https://localhost:8080/"
        },
        "id": "iNVNdkn___Sz",
        "outputId": "792ff3cb-a1ae-49ff-946c-9e4a21104e24"
      },
      "outputs": [
        {
          "output_type": "stream",
          "name": "stdout",
          "text": [
            "Original Tensor:\n",
            " [[[9 8 9 8]\n",
            "  [3 0 1 8]\n",
            "  [9 7 9 9]]\n",
            "\n",
            " [[1 4 5 3]\n",
            "  [9 9 4 4]\n",
            "  [4 6 9 1]]]\n"
          ]
        }
      ],
      "source": [
        "# Create a tensor tensor of shape (2, 3, 4) with random values.\n",
        "tensor = tf.random.uniform((2, 3, 4), minval=0, maxval=10, dtype=tf.int32)\n",
        "print(\"Original Tensor:\\n\", tensor.numpy())"
      ]
    },
    {
      "cell_type": "code",
      "execution_count": 20,
      "metadata": {
        "colab": {
          "base_uri": "https://localhost:8080/"
        },
        "id": "uWX_2UxH__Sz",
        "outputId": "3be63eee-785a-42ab-f4de-b7e2396964aa"
      },
      "outputs": [
        {
          "output_type": "stream",
          "name": "stdout",
          "text": [
            "Reshaped Tensor:\n",
            " [[9 8 9 8 3 0]\n",
            " [1 8 9 7 9 9]\n",
            " [1 4 5 3 9 9]\n",
            " [4 4 4 6 9 1]]\n"
          ]
        }
      ],
      "source": [
        "# Reshape the tensor to (4, 6).\n",
        "reshaped_tensor = tf.reshape(tensor, (4, 6))\n",
        "print(\"Reshaped Tensor:\\n\", reshaped_tensor.numpy())"
      ]
    },
    {
      "cell_type": "code",
      "execution_count": 21,
      "metadata": {
        "colab": {
          "base_uri": "https://localhost:8080/"
        },
        "id": "3fymGYtG__Sz",
        "outputId": "0de8ef7d-59bb-4a57-f742-99dda71be706"
      },
      "outputs": [
        {
          "output_type": "stream",
          "name": "stdout",
          "text": [
            "Transposed Tensor:\n",
            " [[[9 8 9 8]\n",
            "  [1 4 5 3]]\n",
            "\n",
            " [[3 0 1 8]\n",
            "  [9 9 4 4]]\n",
            "\n",
            " [[9 7 9 9]\n",
            "  [4 6 9 1]]]\n"
          ]
        }
      ],
      "source": [
        "# Transpose the tensor (swap the first and second dimensions).\n",
        "transposed_tensor = tf.transpose(tensor, perm=[1, 0, 2])\n",
        "print(\"Transposed Tensor:\\n\", transposed_tensor.numpy())"
      ]
    },
    {
      "cell_type": "code",
      "execution_count": 22,
      "metadata": {
        "colab": {
          "base_uri": "https://localhost:8080/"
        },
        "id": "BkxlmfMW__Sz",
        "outputId": "cc582328-1aae-4615-99cd-1695260d410b"
      },
      "outputs": [
        {
          "output_type": "stream",
          "name": "stdout",
          "text": [
            "Flattened Tensor:\n",
            " [9 8 9 8 3 0 1 8 9 7 9 9 1 4 5 3 9 9 4 4 4 6 9 1]\n"
          ]
        }
      ],
      "source": [
        "# Flatten the tensor to a 1D tensor.\n",
        "flattened_tensor = tf.reshape(tensor, [-1])\n",
        "print(\"Flattened Tensor:\\n\", flattened_tensor.numpy())"
      ]
    },
    {
      "cell_type": "markdown",
      "metadata": {
        "id": "V9vPQtbW__Sz"
      },
      "source": [
        "# 6. Tensor Broadcasting"
      ]
    },
    {
      "cell_type": "code",
      "execution_count": 23,
      "metadata": {
        "colab": {
          "base_uri": "https://localhost:8080/"
        },
        "id": "TMTJXHvZ__S0",
        "outputId": "31258dbd-61c2-4461-d05c-c9b16a185300"
      },
      "outputs": [
        {
          "output_type": "stream",
          "name": "stdout",
          "text": [
            "Tensor A:\n",
            " [[1 2 3]\n",
            " [4 5 6]]\n"
          ]
        }
      ],
      "source": [
        "# Create a tensor tensor_a of shape (2, 3) with values ranging from 1 to 6.\n",
        "tensor_a = tf.range(1, 7, dtype=tf.int32)\n",
        "tensor_a = tf.reshape(tensor_a, (2, 3))\n",
        "print(\"Tensor A:\\n\", tensor_a.numpy())"
      ]
    },
    {
      "cell_type": "code",
      "execution_count": 24,
      "metadata": {
        "colab": {
          "base_uri": "https://localhost:8080/"
        },
        "id": "GgQxznwE__S0",
        "outputId": "b3297355-80f9-4dae-fed4-439bb9e2595d"
      },
      "outputs": [
        {
          "output_type": "stream",
          "name": "stdout",
          "text": [
            "Tensor B:\n",
            " [[1 2 3]]\n"
          ]
        }
      ],
      "source": [
        "# Create a tensor tensor_b of shape (1, 3) with values [1, 2, 3].\n",
        "tensor_b = tf.constant([1, 2, 3], dtype=tf.int32)\n",
        "tensor_b = tf.reshape(tensor_b, (1, 3))\n",
        "print(\"Tensor B:\\n\", tensor_b.numpy())"
      ]
    },
    {
      "cell_type": "code",
      "execution_count": 26,
      "metadata": {
        "colab": {
          "base_uri": "https://localhost:8080/"
        },
        "id": "9zgE6_lp__S0",
        "outputId": "c61e61df-a018-4f12-c459-433bc28f6bc3"
      },
      "outputs": [
        {
          "output_type": "stream",
          "name": "stdout",
          "text": [
            "Broadcasted Sum:\n",
            " [[2 4 6]\n",
            " [5 7 9]]\n"
          ]
        }
      ],
      "source": [
        "# Perform broadcasting addition.\n",
        "tensor_sum = tensor_a + tensor_b\n",
        "print(\"Broadcasted Sum:\\n\", tensor_sum.numpy())"
      ]
    },
    {
      "cell_type": "code",
      "execution_count": 27,
      "metadata": {
        "colab": {
          "base_uri": "https://localhost:8080/"
        },
        "id": "G2PbkImy__S0",
        "outputId": "a5415372-0aaa-4f0a-e0d6-973a0beb25d4"
      },
      "outputs": [
        {
          "output_type": "stream",
          "name": "stdout",
          "text": [
            "Tensor C:\n",
            " [[1]\n",
            " [2]\n",
            " [3]]\n"
          ]
        }
      ],
      "source": [
        "# Create a tensor tensor_c of shape (3, 1) with values [1, 2, 3].\n",
        "tensor_c = tf.constant([1, 2, 3], dtype=tf.int32)\n",
        "tensor_c = tf.reshape(tensor_c, (3, 1))\n",
        "print(\"Tensor C:\\n\", tensor_c.numpy())"
      ]
    },
    {
      "cell_type": "code",
      "execution_count": 29,
      "metadata": {
        "colab": {
          "base_uri": "https://localhost:8080/"
        },
        "id": "rHGQjRuX__S0",
        "outputId": "ff409927-8d24-4a6b-ac74-00fba9d128e6"
      },
      "outputs": [
        {
          "output_type": "stream",
          "name": "stdout",
          "text": [
            "Matrix Multiplication:\n",
            " [[14]\n",
            " [32]]\n"
          ]
        }
      ],
      "source": [
        "# Perform broadcasting multiplication.\n",
        "tensor_product_matrix = tf.matmul(tensor_a, tensor_c)\n",
        "print(\"Matrix Multiplication:\\n\", tensor_product_matrix.numpy())"
      ]
    },
    {
      "cell_type": "markdown",
      "metadata": {
        "id": "tde8qxPG__S0"
      },
      "source": [
        "# 7. Tensor Device Management"
      ]
    },
    {
      "cell_type": "code",
      "execution_count": 31,
      "metadata": {
        "colab": {
          "base_uri": "https://localhost:8080/"
        },
        "id": "07hJ2n7h__S0",
        "outputId": "052c3c56-0070-47e0-fc85-cca811d7a6d0"
      },
      "outputs": [
        {
          "output_type": "stream",
          "name": "stdout",
          "text": [
            "Tensor on GPU:\n",
            " [[4.074789  6.1560383 6.8264556]\n",
            " [5.6448374 9.966159  4.081049 ]\n",
            " [7.328179  7.2667494 3.6686838]]\n"
          ]
        }
      ],
      "source": [
        "# Create a tensor of shape (3, 3) with random values and move it to GPU (if available).\n",
        "if tf.config.list_physical_devices('GPU'):\n",
        "    tensor_gpu = tf.random.uniform((3, 3), minval=0, maxval=10, dtype=tf.float32)\n",
        "    tensor_gpu = tensor_gpu.gpu()\n",
        "    print(\"Tensor on GPU:\\n\", tensor_gpu.numpy())"
      ]
    },
    {
      "cell_type": "code",
      "execution_count": 33,
      "metadata": {
        "colab": {
          "base_uri": "https://localhost:8080/"
        },
        "id": "-92QU4ND__S0",
        "outputId": "a0443fd7-16fd-4d16-83f5-58912745972a"
      },
      "outputs": [
        {
          "output_type": "stream",
          "name": "stderr",
          "text": [
            "WARNING:tensorflow:From /tmp/ipython-input-4139043226.py:7: _EagerTensorBase.cpu (from tensorflow.python.framework.ops) is deprecated and will be removed in a future version.\n",
            "Instructions for updating:\n",
            "Use tf.identity with explicit device placement instead.\n"
          ]
        },
        {
          "output_type": "stream",
          "name": "stdout",
          "text": [
            "Tensor is on GPU.\n",
            "Tensor on CPU:\n",
            " [[4.074789  6.1560383 6.8264556]\n",
            " [5.6448374 9.966159  4.081049 ]\n",
            " [7.328179  7.2667494 3.6686838]]\n"
          ]
        }
      ],
      "source": [
        "# Verify if the tensor is on GPU.\n",
        "if tf.config.list_physical_devices('GPU'):\n",
        "    print(\"Tensor is on GPU.\")\n",
        "else:\n",
        "    print(\"Tensor is not on GPU.\")\n",
        "# Move the tensor back to CPU.\n",
        "tensor_cpu = tensor_gpu.cpu()\n",
        "print(\"Tensor on CPU:\\n\", tensor_cpu.numpy())"
      ]
    },
    {
      "cell_type": "markdown",
      "metadata": {
        "id": "oUU2mkam__S0"
      },
      "source": [
        "# 8. Tensor Cloning and Detaching"
      ]
    },
    {
      "cell_type": "code",
      "execution_count": 34,
      "metadata": {
        "colab": {
          "base_uri": "https://localhost:8080/"
        },
        "id": "eq3hcnop__TA",
        "outputId": "6e7bcf77-6581-4446-9b72-957a79578485"
      },
      "outputs": [
        {
          "output_type": "stream",
          "name": "stdout",
          "text": [
            "Original Tensor:\n",
            " [1. 2. 3.]\n"
          ]
        }
      ],
      "source": [
        "# Create a tensor tensor of shape (3,) with values [1, 2, 3] and set requires_grad=True.\n",
        "tensor = tf.constant([1, 2, 3], dtype=tf.float32)\n",
        "tensor.requires_grad = True\n",
        "print(\"Original Tensor:\\n\", tensor.numpy())"
      ]
    },
    {
      "cell_type": "code",
      "execution_count": 35,
      "metadata": {
        "colab": {
          "base_uri": "https://localhost:8080/"
        },
        "id": "fckKH2dQ__TA",
        "outputId": "676f9084-8f0a-41bb-a2a2-d2f9aa3b6070"
      },
      "outputs": [
        {
          "output_type": "stream",
          "name": "stdout",
          "text": [
            "Cloned Tensor:\n",
            " [1. 2. 3.]\n"
          ]
        }
      ],
      "source": [
        "# Clone the tensor and print the cloned tensor.\n",
        "cloned_tensor = tf.identity(tensor)\n",
        "print(\"Cloned Tensor:\\n\", cloned_tensor.numpy())"
      ]
    },
    {
      "cell_type": "code",
      "execution_count": 36,
      "metadata": {
        "colab": {
          "base_uri": "https://localhost:8080/"
        },
        "id": "EYha60GP__TB",
        "outputId": "645435c2-a428-41ca-df90-f679f528f024"
      },
      "outputs": [
        {
          "output_type": "stream",
          "name": "stdout",
          "text": [
            "Detached Tensor:\n",
            " [1. 2. 3.]\n"
          ]
        }
      ],
      "source": [
        "# Detach the tensor from the computation graph and print the detached tensor.\n",
        "detached_tensor = tf.stop_gradient(tensor)\n",
        "print(\"Detached Tensor:\\n\", detached_tensor.numpy())"
      ]
    },
    {
      "cell_type": "markdown",
      "metadata": {
        "id": "wDQa9aMt__TB"
      },
      "source": [
        "# 9. High Dimensional Tensors"
      ]
    },
    {
      "cell_type": "code",
      "execution_count": 37,
      "metadata": {
        "colab": {
          "base_uri": "https://localhost:8080/"
        },
        "id": "GnRx5UTc__TB",
        "outputId": "2a99c3f8-6ffd-4798-d8ee-fd11ea136962"
      },
      "outputs": [
        {
          "output_type": "stream",
          "name": "stdout",
          "text": [
            "4D Tensor:\n",
            " [[[[6 2 7 4 4]\n",
            "   [3 2 3 9 1]\n",
            "   [1 2 0 3 7]\n",
            "   [8 9 9 6 1]]\n",
            "\n",
            "  [[8 4 0 4 1]\n",
            "   [5 8 9 3 9]\n",
            "   [4 7 0 7 9]\n",
            "   [9 5 3 6 7]]\n",
            "\n",
            "  [[9 9 5 2 1]\n",
            "   [8 5 2 5 5]\n",
            "   [2 7 4 2 0]\n",
            "   [1 5 1 2 6]]]\n",
            "\n",
            "\n",
            " [[[6 2 4 7 5]\n",
            "   [0 5 4 3 8]\n",
            "   [7 5 8 3 5]\n",
            "   [9 8 9 2 8]]\n",
            "\n",
            "  [[8 3 6 6 4]\n",
            "   [3 6 6 7 0]\n",
            "   [4 2 2 9 8]\n",
            "   [8 9 7 2 1]]\n",
            "\n",
            "  [[6 2 4 4 9]\n",
            "   [3 6 7 2 1]\n",
            "   [8 9 7 1 9]\n",
            "   [5 6 8 4 2]]]]\n"
          ]
        }
      ],
      "source": [
        "# Create a 4D tensor tensor of shape (2, 3, 4, 5) with random values.\n",
        "tensor = tf.random.uniform((2, 3, 4, 5), minval=0, maxval=10, dtype=tf.int32)\n",
        "print(\"4D Tensor:\\n\", tensor.numpy())"
      ]
    },
    {
      "cell_type": "code",
      "execution_count": 38,
      "metadata": {
        "colab": {
          "base_uri": "https://localhost:8080/"
        },
        "id": "Q-wwSmLZ__TB",
        "outputId": "0baf6992-97db-42cd-fa98-38c81c885022"
      },
      "outputs": [
        {
          "output_type": "stream",
          "name": "stdout",
          "text": [
            "Shape of the tensor: (2, 3, 4, 5)\n"
          ]
        }
      ],
      "source": [
        "# Print the shape of the tensor.\n",
        "print(\"Shape of the tensor:\", tensor.shape)"
      ]
    },
    {
      "cell_type": "code",
      "execution_count": 39,
      "metadata": {
        "colab": {
          "base_uri": "https://localhost:8080/"
        },
        "id": "oWwfCJKK__TB",
        "outputId": "47681510-de92-4292-d376-c323005edbda"
      },
      "outputs": [
        {
          "output_type": "stream",
          "name": "stdout",
          "text": [
            "Element at (1, 2, 3, 4): 2\n"
          ]
        }
      ],
      "source": [
        "# Access the element at position (1, 2, 3, 4).\n",
        "element = tensor[1, 2, 3, 4]\n",
        "print(\"Element at (1, 2, 3, 4):\", element.numpy())"
      ]
    },
    {
      "cell_type": "code",
      "execution_count": 40,
      "metadata": {
        "colab": {
          "base_uri": "https://localhost:8080/"
        },
        "id": "Lr63_Qgb__TB",
        "outputId": "e1251642-1880-4336-8723-fbbe356230ea"
      },
      "outputs": [
        {
          "output_type": "stream",
          "name": "stdout",
          "text": [
            "First two elements along the first dimension:\n",
            " [[[[6 2 7 4 4]\n",
            "   [3 2 3 9 1]\n",
            "   [1 2 0 3 7]\n",
            "   [8 9 9 6 1]]\n",
            "\n",
            "  [[8 4 0 4 1]\n",
            "   [5 8 9 3 9]\n",
            "   [4 7 0 7 9]\n",
            "   [9 5 3 6 7]]\n",
            "\n",
            "  [[9 9 5 2 1]\n",
            "   [8 5 2 5 5]\n",
            "   [2 7 4 2 0]\n",
            "   [1 5 1 2 6]]]\n",
            "\n",
            "\n",
            " [[[6 2 4 7 5]\n",
            "   [0 5 4 3 8]\n",
            "   [7 5 8 3 5]\n",
            "   [9 8 9 2 8]]\n",
            "\n",
            "  [[8 3 6 6 4]\n",
            "   [3 6 6 7 0]\n",
            "   [4 2 2 9 8]\n",
            "   [8 9 7 2 1]]\n",
            "\n",
            "  [[6 2 4 4 9]\n",
            "   [3 6 7 2 1]\n",
            "   [8 9 7 1 9]\n",
            "   [5 6 8 4 2]]]]\n"
          ]
        }
      ],
      "source": [
        "# Slice and print the first two elements along the first dimension.\n",
        "first_two_elements = tensor[:2, :, :, :]\n",
        "print(\"First two elements along the first dimension:\\n\", first_two_elements.numpy())"
      ]
    },
    {
      "cell_type": "code",
      "execution_count": 41,
      "metadata": {
        "colab": {
          "base_uri": "https://localhost:8080/"
        },
        "id": "6jkfU91l__TB",
        "outputId": "dee3a98c-ba7c-4d15-e1ce-ac476e19ee2e"
      },
      "outputs": [
        {
          "output_type": "stream",
          "name": "stdout",
          "text": [
            "Sum of all elements: 588\n"
          ]
        }
      ],
      "source": [
        "# Sum all elements in the tensor.\n",
        "tensor_sum = tf.reduce_sum(tensor)\n",
        "print(\"Sum of all elements:\", tensor_sum.numpy())"
      ]
    },
    {
      "cell_type": "code",
      "execution_count": 42,
      "metadata": {
        "colab": {
          "base_uri": "https://localhost:8080/"
        },
        "id": "4CkSAPhO__TB",
        "outputId": "c37b28f9-8374-4074-fafd-479c944bcbfe"
      },
      "outputs": [
        {
          "output_type": "stream",
          "name": "stdout",
          "text": [
            "Mean along the third dimension:\n",
            " [[[4 3 4 5 3]\n",
            "  [6 6 3 5 6]\n",
            "  [5 6 3 2 3]]\n",
            "\n",
            " [[5 5 6 3 6]\n",
            "  [5 5 5 6 3]\n",
            "  [5 5 6 2 5]]]\n"
          ]
        }
      ],
      "source": [
        "# Compute the mean along the third dimension.\n",
        "tensor_mean = tf.reduce_mean(tensor, axis=2)\n",
        "print(\"Mean along the third dimension:\\n\", tensor_mean.numpy())"
      ]
    },
    {
      "cell_type": "markdown",
      "metadata": {
        "id": "rKUcLOue__TB"
      },
      "source": [
        "# 10. Combining Tensor Operations"
      ]
    },
    {
      "cell_type": "code",
      "execution_count": 43,
      "metadata": {
        "colab": {
          "base_uri": "https://localhost:8080/"
        },
        "id": "0AYCyzEz__TB",
        "outputId": "557b28c0-7800-4fc1-fd72-783e746c71da"
      },
      "outputs": [
        {
          "output_type": "stream",
          "name": "stdout",
          "text": [
            "Tensor A:\n",
            " [[[7 6 1 9]\n",
            "  [0 6 1 9]\n",
            "  [8 8 9 3]]\n",
            "\n",
            " [[8 0 0 3]\n",
            "  [1 3 9 8]\n",
            "  [2 9 7 5]]]\n",
            "Tensor B:\n",
            " [[[5 6 8 5]\n",
            "  [0 7 2 9]\n",
            "  [4 2 2 2]]\n",
            "\n",
            " [[1 8 1 7]\n",
            "  [6 3 0 9]\n",
            "  [6 9 6 0]]]\n"
          ]
        }
      ],
      "source": [
        "# Create two tensors tensor_a and tensor_b of shape (2, 3, 4) with random values.\n",
        "tensor_a = tf.random.uniform((2, 3, 4), minval=0, maxval=10, dtype=tf.int32)\n",
        "tensor_b = tf.random.uniform((2, 3, 4), minval=0, maxval=10, dtype=tf.int32)\n",
        "print(\"Tensor A:\\n\", tensor_a.numpy())\n",
        "print(\"Tensor B:\\n\", tensor_b.numpy())"
      ]
    },
    {
      "cell_type": "code",
      "execution_count": 44,
      "metadata": {
        "colab": {
          "base_uri": "https://localhost:8080/"
        },
        "id": "Fdbf_kAf__TB",
        "outputId": "428e20a3-8977-4b54-fa1a-864c45dc5cd1"
      },
      "outputs": [
        {
          "output_type": "stream",
          "name": "stdout",
          "text": [
            "Element-wise Sum:\n",
            " [[[12 12  9 14]\n",
            "  [ 0 13  3 18]\n",
            "  [12 10 11  5]]\n",
            "\n",
            " [[ 9  8  1 10]\n",
            "  [ 7  6  9 17]\n",
            "  [ 8 18 13  5]]]\n"
          ]
        }
      ],
      "source": [
        "# Add the two tensors.\n",
        "tensor_sum = tf.add(tensor_a, tensor_b)\n",
        "print(\"Element-wise Sum:\\n\", tensor_sum.numpy())"
      ]
    },
    {
      "cell_type": "code",
      "execution_count": 45,
      "metadata": {
        "colab": {
          "base_uri": "https://localhost:8080/"
        },
        "id": "Kwkej-A1__TB",
        "outputId": "25909933-7722-46b1-f4ea-ec9e1bb00b08"
      },
      "outputs": [
        {
          "output_type": "stream",
          "name": "stdout",
          "text": [
            "Element-wise Product:\n",
            " [[[24 24 18 28]\n",
            "  [ 0 26  6 36]\n",
            "  [24 20 22 10]]\n",
            "\n",
            " [[18 16  2 20]\n",
            "  [14 12 18 34]\n",
            "  [16 36 26 10]]]\n"
          ]
        }
      ],
      "source": [
        "# Multiply the resulting tensor by 2.\n",
        "tensor_product = tf.multiply(tensor_sum, 2)\n",
        "print(\"Element-wise Product:\\n\", tensor_product.numpy())"
      ]
    },
    {
      "cell_type": "code",
      "execution_count": 46,
      "metadata": {
        "colab": {
          "base_uri": "https://localhost:8080/"
        },
        "id": "3Ymkm894__TB",
        "outputId": "145f537f-0875-4469-9dbd-25e136d9dd64"
      },
      "outputs": [
        {
          "output_type": "stream",
          "name": "stdout",
          "text": [
            "Reshaped Tensor:\n",
            " [[24 24 18 28  0 26]\n",
            " [ 6 36 24 20 22 10]\n",
            " [18 16  2 20 14 12]\n",
            " [18 34 16 36 26 10]]\n"
          ]
        }
      ],
      "source": [
        "# Reshape the tensor to (4, 6).\n",
        "reshaped_tensor = tf.reshape(tensor_product, (4, 6))\n",
        "print(\"Reshaped Tensor:\\n\", reshaped_tensor.numpy())"
      ]
    },
    {
      "cell_type": "code",
      "execution_count": 47,
      "metadata": {
        "colab": {
          "base_uri": "https://localhost:8080/"
        },
        "id": "xalQqXAQ__TB",
        "outputId": "be9ed59a-60ba-4c91-9747-764565c209ac"
      },
      "outputs": [
        {
          "output_type": "stream",
          "name": "stdout",
          "text": [
            "Sum along columns:\n",
            " [ 66 110  60 104  62  58]\n"
          ]
        }
      ],
      "source": [
        "# Compute the sum along the columns.\n",
        "tensor_sum_columns = tf.reduce_sum(reshaped_tensor, axis=0)\n",
        "print(\"Sum along columns:\\n\", tensor_sum_columns.numpy())"
      ]
    },
    {
      "cell_type": "markdown",
      "metadata": {
        "id": "eSKgfH4X__TB"
      },
      "source": [
        "-------------------------------------------- END ----------------------------------------------"
      ]
    }
  ],
  "metadata": {
    "kernelspec": {
      "display_name": "Python 3",
      "name": "python3"
    },
    "language_info": {
      "codemirror_mode": {
        "name": "ipython",
        "version": 3
      },
      "file_extension": ".py",
      "mimetype": "text/x-python",
      "name": "python",
      "nbconvert_exporter": "python",
      "pygments_lexer": "ipython3",
      "version": "3.10.14"
    },
    "colab": {
      "provenance": [],
      "gpuType": "T4",
      "include_colab_link": true
    },
    "accelerator": "GPU"
  },
  "nbformat": 4,
  "nbformat_minor": 0
}